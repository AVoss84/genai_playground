{
 "cells": [
  {
   "cell_type": "markdown",
   "metadata": {},
   "source": [
    "# Use Llama.3.2-Vision via Ollama with Langchain "
   ]
  },
  {
   "cell_type": "code",
   "execution_count": 3,
   "metadata": {},
   "outputs": [
    {
     "name": "stdout",
     "output_type": "stream",
     "text": [
      "NAME                      ID              SIZE      MODIFIED       \n",
      "llama3.2-vision:latest    085a1fdae525    7.9 GB    28 seconds ago    \n"
     ]
    }
   ],
   "source": [
    "!ollama list\n",
    "#!ollama rm llama3.2-vision\n",
    "#!ollama pull mxbai-embed-large\n",
    "#!ollama run llama3.2-vision\n",
    "#!ollama pull llama3.2-vision \n",
    "#!ollama --version"
   ]
  },
  {
   "cell_type": "code",
   "execution_count": 6,
   "metadata": {},
   "outputs": [],
   "source": [
    "file_path = \"/home/alexv84/Documents/GitHub/genai_playground/pred.pdf\""
   ]
  },
  {
   "cell_type": "code",
   "execution_count": 7,
   "metadata": {},
   "outputs": [],
   "source": [
    "import fitz\n",
    "from PIL import Image\n",
    "\n",
    "# Load PDF\n",
    "doc = fitz.open(file_path)"
   ]
  },
  {
   "cell_type": "code",
   "execution_count": null,
   "metadata": {},
   "outputs": [],
   "source": [
    "# Convert each page to an image in jpg format\n",
    "for page_number in range(len(doc)):\n",
    "    page = doc.load_page(page_number)\n",
    "    pix = page.get_pixmap()\n",
    "    img = Image.frombytes(\"RGB\", [pix.width, pix.height], pix.samples)\n",
    "\n",
    "    # Save the image\n",
    "    img.save(f\"../data/page_{page_number + 1}.jpg\")\n",
    "\n",
    "print(\"PDF pages converted to images successfully!\")"
   ]
  },
  {
   "cell_type": "code",
   "execution_count": null,
   "metadata": {},
   "outputs": [],
   "source": [
    "#import streamlit as st\n",
    "from PIL import Image\n",
    "import io\n",
    "\n",
    "image = Image.open(\"../data/page_1.jpg\")\n",
    "#image"
   ]
  },
  {
   "cell_type": "code",
   "execution_count": 12,
   "metadata": {},
   "outputs": [],
   "source": [
    "import ollama\n",
    "\n",
    "# Define the image path\n",
    "image_path = '/home/alexv84/Documents/GitHub/genai_playground/data/page_1.jpg'\n",
    "\n",
    "# Query the model\n",
    "try:\n",
    "    response = ollama.chat(\n",
    "        model='llama3.2-vision',  # Use the full model name\n",
    "        messages=[\n",
    "            {\n",
    "                'role': 'user',\n",
    "                'content': 'What is in this image?',\n",
    "                'images': [image_path]\n",
    "            }\n",
    "        ]\n",
    "    )\n",
    "    # print(response)\n",
    "except Exception as e:\n",
    "    print(f\"An error occurred: {e}\")\n"
   ]
  },
  {
   "cell_type": "code",
   "execution_count": null,
   "metadata": {},
   "outputs": [],
   "source": [
    "# Extract the model's response about the image\n",
    "cleaned_text = response[\"message\"][\"content\"].strip()\n",
    "\n",
    "print(f\"Model Response: {cleaned_text}\")"
   ]
  },
  {
   "cell_type": "code",
   "execution_count": 14,
   "metadata": {},
   "outputs": [],
   "source": [
    "#from langchain_community.chat_models import ChatOllama\n",
    "from langchain_ollama import ChatOllama\n",
    "from langchain_core.output_parsers import StrOutputParser\n",
    "from langchain_core.prompts import ChatPromptTemplate\n",
    "\n",
    "llm = ChatOllama(model=\"llama3.2-vision\", temperature=0.1)"
   ]
  },
  {
   "cell_type": "code",
   "execution_count": null,
   "metadata": {},
   "outputs": [],
   "source": [
    "import base64\n",
    "from io import BytesIO\n",
    "import pprint\n",
    "from IPython.display import HTML, display\n",
    "from PIL import Image\n",
    "\n",
    "def convert_to_base64(pil_image):\n",
    "    \"\"\"\n",
    "    Convert PIL images to Base64 encoded strings\n",
    "\n",
    "    :param pil_image: PIL image\n",
    "    :return: Re-sized Base64 string\n",
    "    \"\"\"\n",
    "\n",
    "    buffered = BytesIO()\n",
    "    pil_image.save(buffered, format=\"JPEG\")  # You can change the format if needed\n",
    "    img_str = base64.b64encode(buffered.getvalue()).decode(\"utf-8\")\n",
    "    return img_str\n",
    "\n",
    "def plt_img_base64(img_base64):\n",
    "    \"\"\"\n",
    "    Disply base64 encoded string as image\n",
    "\n",
    "    :param img_base64:  Base64 string\n",
    "    \"\"\"\n",
    "    # Create an HTML img tag with the base64 string as the source\n",
    "    image_html = f'<img src=\"data:image/jpeg;base64,{img_base64}\" />'\n",
    "    # Display the image by rendering the HTML\n",
    "    display(HTML(image_html))\n",
    "\n",
    "page_nr = 1\n",
    "file_path = f'/home/alexv84/Documents/GitHub/genai_playground/data/page_{page_nr}.jpg'\n",
    "pil_image = Image.open(file_path)\n",
    "\n",
    "# Convert the image to base64\n",
    "image_b64 = convert_to_base64(pil_image)\n",
    "\n",
    "# Display the image\n",
    "plt_img_base64(image_b64)"
   ]
  },
  {
   "cell_type": "code",
   "execution_count": null,
   "metadata": {},
   "outputs": [],
   "source": [
    "from langchain_core.messages import HumanMessage\n",
    "\n",
    "llm = ChatOllama(model=\"llama3.2-vision\", temperature=0)\n",
    "\n",
    "def prompt_func(data):\n",
    "    text = data[\"text\"]\n",
    "    image = data[\"image\"]\n",
    "\n",
    "    image_part = {\n",
    "        \"type\": \"image_url\",\n",
    "        \"image_url\": f\"data:image/jpeg;base64,{image}\",\n",
    "    }\n",
    "\n",
    "    content_parts = []\n",
    "\n",
    "    text_part = {\"type\": \"text\", \"text\": text}\n",
    "\n",
    "    content_parts.append(image_part)\n",
    "    content_parts.append(text_part)\n",
    "\n",
    "    return [HumanMessage(content=content_parts)]\n",
    "\n",
    "\n",
    "chain = prompt_func | llm | StrOutputParser()\n",
    "\n",
    "question = \"Give an example about the topic of section 3.1\"\n",
    "\n",
    "text = f\"\"\"\n",
    "    You will be provided with an image of a document. \n",
    "    Your task is to answer the user question. \n",
    "    If you are unable to answer the question, please do not come up with a random answer.     \n",
    "Question: {question}\n",
    "\"\"\"\n",
    "\n",
    "query_chain = chain.invoke(\n",
    "    {\n",
    "    \"text\": text, \n",
    "    \"image\": image_b64\n",
    "    }\n",
    ")\n",
    "\n",
    "pprint.pprint(query_chain)"
   ]
  },
  {
   "cell_type": "code",
   "execution_count": null,
   "metadata": {},
   "outputs": [],
   "source": [
    "#from langchain.tools import Tool\n",
    "from langchain_community.utilities import DuckDuckGoSearchAPIWrapper\n",
    "from langchain.agents import Tool, initialize_agent\n",
    "from langchain_ollama import ChatOllama\n",
    "\n",
    "\n",
    "# Initialize DuckDuckGo Search\n",
    "duck_search = DuckDuckGoSearchAPIWrapper()\n",
    "\n",
    "llm = ChatOllama(model=\"llama3\", temperature=0.2)\n",
    "\n",
    "# Create the tool\n",
    "duck_tool = Tool(\n",
    "    name=\"DuckDuckGoSearch\",\n",
    "    func=duck_search.run,\n",
    "    description=\"Use this tool to search the web for real-time information using DuckDuckGo.\"\n",
    ")\n",
    "\n",
    "# Create the agent with the tool\n",
    "agent = initialize_agent(\n",
    "    tools=[duck_tool],\n",
    "    llm=llm,\n",
    "    agent=\"zero-shot-react-description\",\n",
    "    verbose=True\n",
    ")\n",
    "\n",
    "# Query the agent\n",
    "query = \"What are the top benefits of using solar energy in 2024?\"\n",
    "\n",
    "response = agent.run(query)\n",
    "print(response)"
   ]
  },
  {
   "cell_type": "code",
   "execution_count": null,
   "metadata": {},
   "outputs": [],
   "source": []
  },
  {
   "cell_type": "code",
   "execution_count": 2,
   "metadata": {},
   "outputs": [],
   "source": [
    "import os\n",
    "from langchain_openai import AzureChatOpenAI #, AzureOpenAIEmbeddings\n",
    "from langchain.prompts import ChatPromptTemplate, MessagesPlaceholder\n",
    "from langchain.agents import create_tool_calling_agent, AgentExecutor\n",
    "from langchain.tools import Tool\n",
    "from langchain.chains import LLMMathChain, LLMChain\n",
    "from dotenv import load_dotenv\n",
    "from pprint import PrettyPrinter\n",
    "\n",
    "load_dotenv()\n",
    "\n",
    "# Use GPT-4 as it supports tool calling:\n",
    "llm = AzureChatOpenAI(\n",
    "    openai_api_base=os.getenv(\"OPENAI_URL\"),\n",
    "    openai_api_version=\"2024-02-15-preview\",\n",
    "    openai_api_type=\"azure\",\n",
    "    temperature=0.2,\n",
    "    openai_api_key=os.getenv(\"OPENAI_API_KEY\")\n",
    ")\n",
    "\n",
    "# calculator tool for arithmetics\n",
    "problem_chain = LLMMathChain.from_llm(llm=llm)\n",
    "\n",
    "math_tool = Tool.from_function(name=\"Calculator\",\n",
    "                                func=problem_chain.run,\n",
    "                                description=\"Useful for when you need to answer numeric questions. This tool is only for math questions and nothing else. Only input math expressions, without text\",\n",
    "                                )\n",
    "# Create list of tools\n",
    "tools = [\n",
    "    # duck_tool,\n",
    "    math_tool,\n",
    "]\n",
    "\n",
    "prompt = ChatPromptTemplate.from_messages([\n",
    "    (\"system\", \"You are a helpful assistant.\"),\n",
    "    (\"human\", \"{input}\"),\n",
    "    (\"human\", \"Use the available tools if necessary.\"),\n",
    "    MessagesPlaceholder(variable_name=\"agent_scratchpad\"),\n",
    "])\n",
    "\n",
    "agent = create_tool_calling_agent(llm, tools, prompt)\n",
    "\n",
    "agent_executor = AgentExecutor(agent=agent, tools=tools)"
   ]
  },
  {
   "cell_type": "code",
   "execution_count": null,
   "metadata": {},
   "outputs": [],
   "source": [
    "question = \"What is the cosinus of 2*pi and of pi?\"\n",
    "\n",
    "response = agent_executor.invoke({\"input\": question})\n",
    "\n",
    "PrettyPrinter().pprint(response)"
   ]
  },
  {
   "cell_type": "code",
   "execution_count": null,
   "metadata": {},
   "outputs": [],
   "source": []
  }
 ],
 "metadata": {
  "kernelspec": {
   "display_name": "genai",
   "language": "python",
   "name": "python3"
  },
  "language_info": {
   "codemirror_mode": {
    "name": "ipython",
    "version": 3
   },
   "file_extension": ".py",
   "mimetype": "text/x-python",
   "name": "python",
   "nbconvert_exporter": "python",
   "pygments_lexer": "ipython3",
   "version": "3.12.8"
  }
 },
 "nbformat": 4,
 "nbformat_minor": 2
}
