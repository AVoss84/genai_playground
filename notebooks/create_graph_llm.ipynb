{
 "cells": [
  {
   "cell_type": "code",
   "execution_count": 2,
   "metadata": {},
   "outputs": [],
   "source": [
    "# start ollama server\n",
    "# !ollama serve"
   ]
  },
  {
   "cell_type": "code",
   "execution_count": null,
   "metadata": {},
   "outputs": [],
   "source": [
    "# download to:  ~/.ollama/models\n",
    "#!ollama pull nomic-embed-text\n",
    "# !ollama pull llama3.1:8b\n",
    "!ollama list"
   ]
  },
  {
   "cell_type": "code",
   "execution_count": 117,
   "metadata": {},
   "outputs": [],
   "source": [
    "#!ollama help\n",
    "# !ollama rm llama3:latest\n",
    "#ollama run llama3.1"
   ]
  },
  {
   "cell_type": "code",
   "execution_count": 1,
   "metadata": {},
   "outputs": [],
   "source": [
    "import os\n",
    "from langchain_openai import AzureChatOpenAI #, AzureOpenAIEmbeddings\n",
    "from dotenv import load_dotenv\n",
    "\n",
    "load_dotenv()\n",
    "\n",
    "llm = AzureChatOpenAI(\n",
    "    openai_api_base=os.getenv(\"OPENAI_URL\"),\n",
    "    openai_api_version=\"2024-02-15-preview\",\n",
    "    openai_api_type=\"azure\",\n",
    "    temperature=0.2,\n",
    "    openai_api_key=os.getenv(\"OPENAI_API_KEY\")\n",
    ")"
   ]
  },
  {
   "cell_type": "code",
   "execution_count": 2,
   "metadata": {},
   "outputs": [],
   "source": [
    "from langchain_ollama import ChatOllama\n",
    "\n",
    "llm = ChatOllama(\n",
    "    model=\"llama3.1:8b\",\n",
    "    temperature=0.3,\n",
    ")"
   ]
  },
  {
   "cell_type": "code",
   "execution_count": 114,
   "metadata": {},
   "outputs": [],
   "source": [
    "from pydantic import BaseModel, Field\n",
    "from langchain_core.output_parsers import JsonOutputParser\n",
    "\n",
    "class OutputStructure(BaseModel):\n",
    "    input_text: str = Field(description=\"The input text\")\n",
    "    translated_text: str = Field(description=\"The translated text\")\n",
    " \n",
    "parser = JsonOutputParser(pydantic_object=OutputStructure)"
   ]
  },
  {
   "cell_type": "code",
   "execution_count": 115,
   "metadata": {},
   "outputs": [],
   "source": [
    "from langchain.prompts import ChatPromptTemplate, HumanMessagePromptTemplate, SystemMessagePromptTemplate\n",
    "\n",
    "system_template = \"\"\"You are a helpful assistant that translates {input_language} to {output_language}.\n",
    "{format_instructions}\"\"\"\n",
    "\n",
    "human_template = \"{text}\"\n",
    "\n",
    "system_message_prompt = SystemMessagePromptTemplate.from_template(system_template)\n",
    "human_message_prompt = HumanMessagePromptTemplate.from_template(human_template)\n",
    "\n",
    "chat_prompt = ChatPromptTemplate.from_messages([\n",
    "    system_message_prompt,\n",
    "    human_message_prompt\n",
    "])"
   ]
  },
  {
   "cell_type": "code",
   "execution_count": null,
   "metadata": {},
   "outputs": [],
   "source": [
    "from pprint import PrettyPrinter\n",
    "\n",
    "prompt = chat_prompt.partial(\n",
    "    format_instructions=parser.get_format_instructions(),\n",
    "    input_language=\"English\",\n",
    "    output_language=\"German\"\n",
    ")\n",
    "\n",
    "chain = prompt | llm | parser\n",
    "\n",
    "result = chain.invoke({\"text\": \"I love programming.\"})\n",
    "\n",
    "PrettyPrinter().pprint(result) "
   ]
  },
  {
   "cell_type": "code",
   "execution_count": null,
   "metadata": {},
   "outputs": [],
   "source": []
  },
  {
   "cell_type": "markdown",
   "metadata": {},
   "source": [
    "## Graph from text example:"
   ]
  },
  {
   "cell_type": "code",
   "execution_count": 153,
   "metadata": {},
   "outputs": [],
   "source": [
    "from pydantic import BaseModel, Field\n",
    "\n",
    "class JSONSchemaSpecification(BaseModel):\n",
    "    notes: str = Field(description=\"Any notes or comments about the schema\")\n",
    "    jsonschema: str = Field(description=\"A JSON array of JSON schema specifications that describe the entities in the data model\")\n",
    "\n",
    "parser = JsonOutputParser(pydantic_object=JSONSchemaSpecification)"
   ]
  },
  {
   "cell_type": "code",
   "execution_count": 2,
   "metadata": {},
   "outputs": [],
   "source": [
    "from pathlib import Path\n",
    "from langchain_community.document_loaders import TextLoader\n",
    "\n",
    "txt_path = Path().cwd().parent / \"dune.txt\"\n",
    "\n",
    "loader = TextLoader(str(txt_path))\n",
    "documents = loader.load()"
   ]
  },
  {
   "cell_type": "code",
   "execution_count": null,
   "metadata": {},
   "outputs": [],
   "source": [
    "print(documents[0].page_content)"
   ]
  },
  {
   "cell_type": "code",
   "execution_count": 156,
   "metadata": {},
   "outputs": [],
   "source": [
    "example_output = [\n",
    "   dict(\n",
    "    title=\"Person\",\n",
    "    type=\"object\",\n",
    "    description=\"Node\",\n",
    "    properties=[\n",
    "        dict(name=\"name\", type=\"string\", description=\"The name of the person\", examples=[\"Tom Hanks\"]),\n",
    "        # dict(name=\"date_of_birth\", column_name=\"person_dob\", type=\"date\", description=\"The date of birth for the person\", examples=[\"1987-06-05\"]),\n",
    "        # dict(name=\"id\", column_name=\"person_name, date_of_birth\", type=\"string\", description=\"The ID is a combination of name and date of birth to ensure uniqueness\", examples=[\"tom-hanks-1987-06-05\"]),\n",
    "    ],\n",
    "  ),\n",
    "#    dict(\n",
    "#     title=\"Director\",\n",
    "#     type=\"object\",\n",
    "#     description=\"Node\",\n",
    "#     properties=[\n",
    "#         dict(name=\"name\", column_name=\"director_names\", type=\"string\", description=\"The name of the directors. Split values in text by a comma\", examples=[\"Francis Ford Coppola\"]),\n",
    "#     ],\n",
    "#   ),\n",
    "#    dict(\n",
    "#     title=\"Movie\",\n",
    "#     type=\"object\",\n",
    "#     description=\"Node\",\n",
    "#     properties=[\n",
    "#         dict(name=\"title\", column_name=\"title\", type=\"string\", description=\"The title of the movie\", examples=[\"Toy Story\"]),\n",
    "#         dict(name=\"released\", column_name=\"released\", type=\"integer\", description=\"The year the movie was released\", examples=[\"1990\"]),\n",
    "#     ],)\n",
    "   dict(\n",
    "    title=\"IS_FATHER_OF\",\n",
    "    type=\"object\",\n",
    "    description=\"Relationship\",\n",
    "    properties=[\n",
    "        dict(name=\"_from\", type=\"string\", description=\"The Father\", examples=[\"Person\"]),\n",
    "        dict(name=\"_to\", type=\"string\", description=\"The child\", examples=[\"Person\"]),\n",
    "    ]\n",
    "  )\n",
    "#    dict(\n",
    "#     title=\"DIRECTED\",\n",
    "#     type=\"object\",\n",
    "#     description=\"Relationship\",\n",
    "#     properties=[\n",
    "#         dict(name=\"_from\", type=\"string\", column_name=\"director_names\", description=\"Director names are comma separated\", examples=[\"Director\"]),\n",
    "#         dict(name=\"_to\", type=\"string\", column_name=\"title\", description=\"The label of the node this relationship ends at\", examples=[\"Movie\"]),\n",
    "#     ],\n",
    "#   ),\n",
    "]"
   ]
  },
  {
   "cell_type": "code",
   "execution_count": null,
   "metadata": {},
   "outputs": [],
   "source": [
    "from langchain.prompts import PromptTemplate\n",
    "from json import dumps\n",
    "\n",
    "model_prompt = PromptTemplate.from_template(\"\"\"\n",
    "You are an expert Graph Database administrator.\n",
    "Your task is to design a knowledge graph based on information provided in a raw text source.\n",
    "\n",
    "You must identify in the text if a word indicates being a node/vertice or a link/relationship between two nodes. Consider:\n",
    "* Does the text represent an entity, i.e. a node, like for example a Person, Place, or object?  If so, this should be a node.\n",
    "* Does the text represent a relationship between two entities?  If so, this should be a relationship between two nodes.\n",
    "                                            \n",
    "This is the text from which you need to identify: {text}\n",
    "\n",
    "Here is an example of an expected output:\n",
    "{example_output}\n",
    "\"\"\", partial_variables=dict(example_output=dumps(example_output)))\n",
    "\n",
    "chain = model_prompt | llm | parser"
   ]
  },
  {
   "cell_type": "code",
   "execution_count": 160,
   "metadata": {},
   "outputs": [],
   "source": [
    "result = chain.invoke({\"text\": documents[0].page_content})\n",
    "\n",
    "# # Process all chunks in parallel using batch\n",
    "# results = chain.batch([{\"text\": chunk.page_content} for chunk in documents], {\"max_concurrency\": 5})\n",
    "\n",
    "# # Print the results\n",
    "# for result in results:\n",
    "#     PrettyPrinter().pprint(result) "
   ]
  },
  {
   "cell_type": "code",
   "execution_count": 3,
   "metadata": {},
   "outputs": [],
   "source": [
    "#PrettyPrinter().pprint(result)"
   ]
  },
  {
   "cell_type": "code",
   "execution_count": 10,
   "metadata": {},
   "outputs": [],
   "source": [
    "from langchain_community.graphs import Neo4jGraph\n",
    "\n",
    "url = \"bolt://localhost:7687\"  # Default local Neo4j URL\n",
    "password = \"neo4j_password\"  # Set this to your database password\n",
    "\n",
    "graph = Neo4jGraph(\n",
    "    url=url,\n",
    "    username=\"neo4j\",\n",
    "    password=password,\n",
    "    database=\"dune-example\",\n",
    ")"
   ]
  },
  {
   "cell_type": "code",
   "execution_count": 11,
   "metadata": {},
   "outputs": [],
   "source": [
    "from langchain_experimental.graph_transformers import LLMGraphTransformer\n",
    "\n",
    "llm_transformer = LLMGraphTransformer(llm=llm)"
   ]
  },
  {
   "cell_type": "code",
   "execution_count": null,
   "metadata": {},
   "outputs": [],
   "source": [
    "from langchain_core.documents import Document\n",
    "\n",
    "text = \"\"\"\n",
    "Marie Curie, born in 1867, was a Polish and naturalised-French physicist and chemist who conducted pioneering research on radioactivity.\n",
    "She was the first woman to win a Nobel Prize, the first person to win a Nobel Prize twice, and the only person to win a Nobel Prize in two scientific fields.\n",
    "Her husband, Pierre Curie, was a co-winner of her first Nobel Prize, making them the first-ever married couple to win the Nobel Prize and launching the Curie family legacy of five Nobel Prizes.\n",
    "She was, in 1906, the first woman to become a professor at the University of Paris.\n",
    "\"\"\"\n",
    "\n",
    "text = \"\"\"Duke Leto Atreides of House Atreides, ruler of the ocean planet Caladan, is assigned by the Padishah Emperor Shaddam IV to serve as fief ruler of the planet Arrakis. Although Arrakis is a harsh and inhospitable desert planet, it is of enormous importance because it is the only planetary source of melange, or the \"spice\", a unique and incredibly valuable substance that extends human youth, vitality and lifespan. It is also through the consumption of spice that Spacing Guild Navigators are able to effect safe interstellar travel. Shaddam, jealous of Duke Leto Atreides's rising popularity in the Landsraad, sees House Atreides as a potential future rival and threat, so conspires with House Harkonnen, the former stewards of Arrakis and the longstanding enemies of House Atreides, to destroy Leto and his family after their arrival. Leto is aware his assignment is a trap of some kind, but is compelled to obey the Emperor's orders anyway.\n",
    "Leto's concubine Lady Jessica is an acolyte of the Bene Gesserit, an exclusively female group that pursues mysterious political aims and wields seemingly superhuman physical and mental abilities, such as the ability to control their bodies down to the cellular level, and also decide the sex of their children. Though Jessica was instructed by the Bene Gesserit to bear a daughter as part of their breeding program, out of love for Leto she bore a son, Paul. From a young age, Paul has been trained in warfare by Leto's aides, the elite soldiers Duncan Idaho and Gurney Halleck. Thufir Hawat, the Duke's Mentat (human computers, able to store vast amounts of data and perform advanced calculations on demand), has instructed Paul in the ways of political intrigue. Jessica has also trained her son in Bene Gesserit disciplines.\n",
    "Paul's prophetic dreams interest Jessica's superior, the Reverend Mother Gaius Helen Mohiam, who subjects Paul to the deadly gom jabbar test. Holding a poisonous needle to his neck ready to strike should he be unable to resist the impulse to withdraw his hand from the nerve induction box, she tests Paul's self-control to overcome the extreme psychological pain he is being subjected to through the box.\n",
    "Leto, Jessica, and Paul travel with their household to occupy Arrakeen, the capital on Arrakis formerly held by House Harkonnen. Leto learns of the dangers involved in harvesting the spice, which is protected by giant sandworms, and seeks to negotiate with the planet's native Fremen people, seeing them as a valuable ally rather than foes. Soon after the Atreides's arrival, Harkonnen forces attack, joined by the Emperor's ferocious Sardaukar troops in disguise. Leto is betrayed by his personal physician, the Suk doctor Wellington Yueh, who delivers a drugged Leto to the Baron Vladimir Harkonnen and his twisted Mentat, Piter De Vries. Yueh, however, arranges for Jessica and Paul to escape into the desert, where they are presumed dead by the Harkonnens. Yueh replaces one of Leto's teeth with a poison gas capsule, hoping Leto can kill the Baron during their encounter. The Baron narrowly avoids the gas due to his shield, which kills Leto, De Vries, and the others in the room. The Baron forces Hawat to take over De Vries's position by dosing him with a long-lasting, fatal poison and threatening to withhold the regular antidote doses unless he obeys. While he follows the Baron's orders, Hawat works secretly to undermine the Harkonnens.\n",
    "Having fled into the desert, Paul is exposed to high concentrations of spice and has visions through which he realizes he has significant powers (as a result of the Bene Gesserit breeding scheme). He foresees potential futures in which he lives among the planet's native Fremen before leading them on a Holy Jihad across the known universe.\n",
    "It is revealed Jessica is the daughter of Baron Harkonnen, a secret kept from her by the Bene Gesserit. After being captured by Fremen, Paul and Jessica are accepted into the Fremen community of Sietch Tabr, and teach the Fremen the Bene Gesserit fighting technique known as the \"weirding way\". Paul proves his manhood by killing a Fremen named Jamis in a ritualistic crysknife fight and chooses the Fremen name Muad'Dib, while Jessica opts to undergo a ritual to become a Reverend Mother by drinking the poisonous Water of Life. Pregnant with Leto's daughter, she inadvertently causes the unborn child, Alia, to become infused with the same powers in the womb. Paul takes a Fremen lover, Chani, and has a son with her, Leto II.\n",
    "Two years pass and Paul's powerful prescience manifests, which confirms for the Fremen that he is their prophesied messiah, a legend planted by the Bene Gesserit's Missionaria Protectiva. Paul embraces his father's belief that the Fremen could be a powerful fighting force to take back Arrakis, but also sees that if he does not control them, their jihad could consume the entire universe. Word of the new Fremen leader reaches both Baron Harkonnen and the Emperor as spice production falls due to their increasingly destructive raids. The Baron encourages his brutish nephew Glossu Rabban to rule with an iron fist, hoping the contrast with his shrewder nephew Feyd-Rautha will make the latter popular among the people of Arrakis when he eventually replaces Rabban. The Emperor, suspecting the Baron of trying to create troops more powerful than the Sardaukar to seize power, sends spies to monitor activity on Arrakis. Hawat uses the opportunity to sow seeds of doubt in the Baron about the Emperor's true plans, putting further strain on their alliance.\n",
    "Gurney, having survived the Harkonnen coup becomes a smuggler, reuniting with Paul and Jessica after a Fremen raid on his harvester. Believing Jessica to be the traitor, Gurney threatens to kill her, but is stopped by Paul. Paul did not foresee Gurney's attack, and concludes he must increase his prescience by drinking the Water of Life, which is traditionally fatal to males. Paul falls into unconsciousness for three weeks after drinking the poison, but when he wakes, he has clairvoyance across time and space: he is the Kwisatz Haderach, the ultimate goal of the Bene Gesserit breeding program.\n",
    "Paul senses the Emperor and Baron are amassing fleets around Arrakis to quell the Fremen rebellion, and prepares the Fremen for a major offensive against the Harkonnen troops. The Emperor arrives with the Baron on Arrakis. The Emperor's troops seize a Fremen outpost, killing many including young Leto II, while Alia is captured and taken to the Emperor. Under cover of an electric storm, which shorts out the Emperor's troops' defensive shields, Paul and the Fremen, riding giant sandworms, assault the capital while Alia assassinates the Baron and escapes. The Fremen quickly defeat both the Harkonnen and Sardaukar troops.\n",
    "Paul faces the Emperor, threatening to destroy spice production forever unless Shaddam abdicates the throne. Feyd-Rautha attempts to stop Paul by challenging him to a ritualistic knife fight, during which he attempts to cheat and kill Paul with a poison spur in his belt. Paul gains the upper hand and kills him. The Emperor reluctantly cedes the throne to Paul and promises his daughter Princess Irulan's hand in marriage. As Paul takes control of the Empire, he realizes that while he has achieved his goal, he is no longer able to stop the Fremen jihad, as their belief in him is too powerful to restrain.\n",
    "\"\"\"\n",
    "\n",
    "documents = [Document(page_content=text)]\n",
    "graph_documents = llm_transformer.convert_to_graph_documents(documents)\n",
    "\n",
    "print(f\"Nodes:{graph_documents[0].nodes}\")\n",
    "print(f\"Relationships:{graph_documents[0].relationships}\")"
   ]
  },
  {
   "cell_type": "code",
   "execution_count": null,
   "metadata": {},
   "outputs": [],
   "source": [
    "print(text)"
   ]
  },
  {
   "cell_type": "code",
   "execution_count": null,
   "metadata": {},
   "outputs": [],
   "source": [
    "llm_transformer_props = LLMGraphTransformer(\n",
    "    llm=llm,\n",
    "    allowed_nodes=[\"Person\", \"Location\", \"Organization\"],\n",
    "    allowed_relationships=[\"NATIONALITY\", \"LIVES_IN\", \"SPOUSE\", \"RELATIVE\", \"IS_FATHER_OF\", \"IS_MOTHER_OF\", \"IS_SIBLING_OF\"],\n",
    "    node_properties=[\"born_year\", \"name\", \"title\"],\n",
    ")\n",
    "graph_documents_props = llm_transformer_props.convert_to_graph_documents(documents)\n",
    "\n",
    "print(f\"Nodes:{graph_documents_props[0].nodes}\")\n",
    "print(f\"Relationships:{graph_documents_props[0].relationships}\")"
   ]
  },
  {
   "cell_type": "code",
   "execution_count": 15,
   "metadata": {},
   "outputs": [],
   "source": [
    "graph.add_graph_documents(graph_documents_props, baseEntityLabel=True)"
   ]
  },
  {
   "cell_type": "markdown",
   "metadata": {},
   "source": [
    "## SOX"
   ]
  },
  {
   "cell_type": "code",
   "execution_count": 4,
   "metadata": {},
   "outputs": [],
   "source": [
    "import sys\n",
    "\n",
    "sys.path.insert(0, '..') "
   ]
  },
  {
   "cell_type": "code",
   "execution_count": 7,
   "metadata": {},
   "outputs": [],
   "source": [
    "from pathlib import Path\n",
    "\n",
    "file_path = Path().cwd().parent / \"sox.pdf\""
   ]
  },
  {
   "cell_type": "code",
   "execution_count": null,
   "metadata": {},
   "outputs": [],
   "source": [
    "from utils import get_text_from_pdf\n",
    "\n",
    "text = get_text_from_pdf(file_path)\n",
    "print(text)"
   ]
  },
  {
   "cell_type": "code",
   "execution_count": 24,
   "metadata": {},
   "outputs": [],
   "source": [
    "from langchain_community.graphs import Neo4jGraph\n",
    "\n",
    "url = \"bolt://localhost:7687\"  # Default local Neo4j URL\n",
    "password = \"neo4j_password\"  # Set this to your database password\n",
    "\n",
    "graph = Neo4jGraph(\n",
    "    url=url,\n",
    "    username=\"neo4j\",\n",
    "    password=password,\n",
    "    database=\"sox\",\n",
    ")\n",
    "\n",
    "graph.refresh_schema()\n",
    "\n",
    "# print(graph.schema)"
   ]
  },
  {
   "cell_type": "code",
   "execution_count": null,
   "metadata": {},
   "outputs": [],
   "source": [
    "from langchain_experimental.graph_transformers import LLMGraphTransformer\n",
    "from langchain.prompts import ChatPromptTemplate\n",
    "from langchain_ollama import ChatOllama\n",
    "from langchain_core.documents import Document\n",
    "\n",
    "documents = [Document(page_content=text)]\n",
    "\n",
    "llm = ChatOllama(\n",
    "    model=\"llama3.1:8b\",\n",
    "    temperature=0.1,\n",
    ")\n",
    "\n",
    "chat_prompt = ChatPromptTemplate.from_template(\n",
    "    \"\"\"\n",
    "    You are an expert in the insurance industry. \n",
    "    You need to extract information from an online claim notification form which comes in a key/value format and convert it into a knowledge graph. \n",
    "    Consider the following: Does the text represent an entity, i.e. a node, like for example a Person, Place, or claim object? \n",
    "    If so, this should be a node in the graph. \n",
    "    Does the text represent a relationship between two entities? \n",
    "    If so, this should be a relationship / link between two nodes in the graph.\n",
    "    \"\"\"\n",
    ")\n",
    "\n",
    "llm_transformer = LLMGraphTransformer(\n",
    "        llm=llm,\n",
    "        allowed_nodes=[\"Person\", \"Location\", \"Organization\", \"Object\"],\n",
    "        allowed_relationships=[\"LIVES_IN\", \"IS_RELATED_TO\", \"CLAIMS\", \"KNOWS\", \"OWNS\", \"WORKS_AT\"],\n",
    "        node_properties=[\"date of birth\", \"name\", \"policy number\", \"claim number\", \"claim reason\", \"address\", \"phone number\", \"email\", \"title\", \"IBAN\"],\n",
    "        # relationship_properties=[\"amount\", \"status\", \"description\", \"claim type\"],\n",
    "        #prompt=chat_prompt\n",
    ")\n",
    "\n",
    "graph_documents_props = llm_transformer.convert_to_graph_documents(documents)\n",
    "\n",
    "print(f\"Nodes:{graph_documents_props[0].nodes}\")\n",
    "print(f\"Relationships:{graph_documents_props[0].relationships}\")"
   ]
  },
  {
   "cell_type": "code",
   "execution_count": 33,
   "metadata": {},
   "outputs": [],
   "source": [
    "graph.add_graph_documents(graph_documents_props, baseEntityLabel=True, include_source=True)"
   ]
  },
  {
   "cell_type": "code",
   "execution_count": null,
   "metadata": {},
   "outputs": [],
   "source": [
    "graph.refresh_schema()\n",
    "\n",
    "print(graph.schema)"
   ]
  },
  {
   "cell_type": "code",
   "execution_count": null,
   "metadata": {},
   "outputs": [],
   "source": [
    "from langchain.chains import GraphCypherQAChain\n",
    "\n",
    "chain = GraphCypherQAChain.from_llm(graph=graph, llm=llm, verbose=True, allow_dangerous_requests=True)\n",
    "\n",
    "response = chain.invoke({\"query\": \"What is the claim number?\"})\n",
    "response"
   ]
  },
  {
   "cell_type": "code",
   "execution_count": null,
   "metadata": {},
   "outputs": [],
   "source": []
  }
 ],
 "metadata": {
  "kernelspec": {
   "display_name": "genai",
   "language": "python",
   "name": "python3"
  },
  "language_info": {
   "codemirror_mode": {
    "name": "ipython",
    "version": 3
   },
   "file_extension": ".py",
   "mimetype": "text/x-python",
   "name": "python",
   "nbconvert_exporter": "python",
   "pygments_lexer": "ipython3",
   "version": "3.12.7"
  }
 },
 "nbformat": 4,
 "nbformat_minor": 2
}
