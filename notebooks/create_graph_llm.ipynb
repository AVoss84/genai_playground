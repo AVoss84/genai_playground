{
 "cells": [
  {
   "cell_type": "code",
   "execution_count": 2,
   "metadata": {},
   "outputs": [],
   "source": [
    "# start ollama server\n",
    "# !ollama serve"
   ]
  },
  {
   "cell_type": "code",
   "execution_count": 40,
   "metadata": {},
   "outputs": [
    {
     "name": "stdout",
     "output_type": "stream",
     "text": [
      "NAME                       ID              SIZE      MODIFIED      \n",
      "llama3.1:8b                42182419e950    4.7 GB    6 minutes ago    \n",
      "nomic-embed-text:latest    0a109f422b47    274 MB    5 months ago     \n"
     ]
    }
   ],
   "source": [
    "# download to:  ~/.ollama/models\n",
    "#!ollama pull nomic-embed-text\n",
    "# !ollama pull llama3.1:8b\n",
    "!ollama list"
   ]
  },
  {
   "cell_type": "code",
   "execution_count": 117,
   "metadata": {},
   "outputs": [],
   "source": [
    "#!ollama help\n",
    "# !ollama rm llama3:latest\n",
    "#ollama run llama3.1"
   ]
  },
  {
   "cell_type": "code",
   "execution_count": 4,
   "metadata": {},
   "outputs": [],
   "source": [
    "import os\n",
    "from langchain_openai import AzureChatOpenAI, AzureOpenAIEmbeddings\n",
    "from dotenv import load_dotenv\n",
    "\n",
    "load_dotenv()\n",
    "\n",
    "llm = AzureChatOpenAI(\n",
    "    openai_api_base=\"https://free-cdo.openai.azure.com/openai/deployments/cod-free-gpt4o/chat/completions?api-version=2024-02-15-preview\",\n",
    "    openai_api_version=\"2024-02-15-preview\",\n",
    "    openai_api_type=\"azure\",\n",
    "    temperature=0.2,\n",
    "    openai_api_key=os.getenv(\"OPENAI_API_KEY\")\n",
    ")"
   ]
  },
  {
   "cell_type": "code",
   "execution_count": 2,
   "metadata": {},
   "outputs": [],
   "source": [
    "from langchain_ollama import ChatOllama\n",
    "\n",
    "llm = ChatOllama(\n",
    "    model=\"llama3.1:8b\",\n",
    "    temperature=0.3,\n",
    ")"
   ]
  },
  {
   "cell_type": "code",
   "execution_count": 114,
   "metadata": {},
   "outputs": [],
   "source": [
    "from pydantic import BaseModel, Field\n",
    "from langchain_core.output_parsers import JsonOutputParser\n",
    "\n",
    "class OutputStructure(BaseModel):\n",
    "    input_text: str = Field(description=\"The input text\")\n",
    "    translated_text: str = Field(description=\"The translated text\")\n",
    " \n",
    "parser = JsonOutputParser(pydantic_object=OutputStructure)"
   ]
  },
  {
   "cell_type": "code",
   "execution_count": 115,
   "metadata": {},
   "outputs": [],
   "source": [
    "from langchain.prompts import ChatPromptTemplate, HumanMessagePromptTemplate, SystemMessagePromptTemplate\n",
    "\n",
    "system_template = \"\"\"You are a helpful assistant that translates {input_language} to {output_language}.\n",
    "{format_instructions}\"\"\"\n",
    "\n",
    "human_template = \"{text}\"\n",
    "\n",
    "system_message_prompt = SystemMessagePromptTemplate.from_template(system_template)\n",
    "human_message_prompt = HumanMessagePromptTemplate.from_template(human_template)\n",
    "\n",
    "chat_prompt = ChatPromptTemplate.from_messages([\n",
    "    system_message_prompt,\n",
    "    human_message_prompt\n",
    "])"
   ]
  },
  {
   "cell_type": "code",
   "execution_count": 116,
   "metadata": {},
   "outputs": [
    {
     "name": "stdout",
     "output_type": "stream",
     "text": [
      "{'input_text': 'I love programming.',\n",
      " 'translated_text': 'Ich liebe Programmieren.'}\n"
     ]
    }
   ],
   "source": [
    "from pprint import PrettyPrinter\n",
    "\n",
    "prompt = chat_prompt.partial(\n",
    "    format_instructions=parser.get_format_instructions(),\n",
    "    input_language=\"English\",\n",
    "    output_language=\"German\"\n",
    ")\n",
    "\n",
    "chain = prompt | llm | parser\n",
    "\n",
    "result = chain.invoke({\"text\": \"I love programming.\"})\n",
    "\n",
    "PrettyPrinter().pprint(result) "
   ]
  },
  {
   "cell_type": "code",
   "execution_count": null,
   "metadata": {},
   "outputs": [],
   "source": []
  },
  {
   "cell_type": "code",
   "execution_count": null,
   "metadata": {},
   "outputs": [],
   "source": []
  },
  {
   "cell_type": "markdown",
   "metadata": {},
   "source": [
    "## Graph from text example:"
   ]
  },
  {
   "cell_type": "code",
   "execution_count": 153,
   "metadata": {},
   "outputs": [],
   "source": [
    "from pydantic import BaseModel, Field\n",
    "\n",
    "class JSONSchemaSpecification(BaseModel):\n",
    "    notes: str = Field(description=\"Any notes or comments about the schema\")\n",
    "    jsonschema: str = Field(description=\"A JSON array of JSON schema specifications that describe the entities in the data model\")\n",
    "\n",
    "parser = JsonOutputParser(pydantic_object=JSONSchemaSpecification)"
   ]
  },
  {
   "cell_type": "code",
   "execution_count": 190,
   "metadata": {},
   "outputs": [],
   "source": [
    "from pathlib import Path\n",
    "from langchain_community.document_loaders import TextLoader\n",
    "\n",
    "txt_path = Path().cwd().parent / \"dune.txt\"\n",
    "\n",
    "loader = TextLoader(str(txt_path))\n",
    "documents = loader.load()"
   ]
  },
  {
   "cell_type": "code",
   "execution_count": 158,
   "metadata": {},
   "outputs": [
    {
     "name": "stdout",
     "output_type": "stream",
     "text": [
      "Dune is a 1965 epic science fiction novel by American author Frank Herbert, originally published as two separate serials in Analog magazine. It tied with Roger Zelazny's This Immortal for the Hugo Award in 1966 and it won the inaugural Nebula Award for Best Novel. It is the first installment of the Dune Chronicles. It is one of the world's best-selling science fiction novels.Dune is set in the distant future in a feudal interstellar society in which various noble houses control planetary fiefs.  It tells the story of young Paul Atreides, whose family accepts the stewardship of the planet Arrakis. While the planet is an inhospitable and sparsely populated desert wasteland, it is the only source of melange, or \"spice\", a drug that extends life and enhances mental abilities. Melange is also necessary for space navigation, which requires a kind of multidimensional awareness and foresight that only the drug provides. As melange can only be produced on Arrakis, control of the planet is a coveted and dangerous undertaking. The story explores the multilayered interactions of politics, religion, ecology, technology, and human emotion, as the factions of the empire confront each other in a struggle for the control of Arrakis and its spice.\n",
      "Herbert wrote five sequels: Dune Messiah, Children of Dune, God Emperor of Dune, Heretics of Dune, and Chapterhouse: Dune. Following Herbert's death in 1986, his son Brian Herbert and author Kevin J. Anderson continued the series in over a dozen additional novels since 1999.\n",
      "Adaptations of the novel to cinema have been notoriously difficult and complicated. In the 1970s, cult filmmaker Alejandro Jodorowsky attempted to make a film based on the novel. After three years of development, the project was canceled due to a constantly growing budget. In 1984, a film adaptation directed by David Lynch was released to mostly negative responses from critics and failure at the box office, although it later developed a cult following. The book was also adapted into the 2000 Sci-Fi Channel miniseries Frank Herbert's Dune and its 2003 sequel Frank Herbert's Children of Dune (the latter of which combines the events of Dune Messiah and Children of Dune). A second film adaptation directed by Denis Villeneuve was released on October 21, 2021, to positive reviews. It grossed $401 million worldwide and went on to be nominated for ten Academy Awards, winning six. Villeneuve's film covers roughly the first half of the original novel; a sequel, which will cover the remaining story, will be released in March 2024.\n",
      "The series has also been used as the basis for several board, role-playing, and video games.\n",
      "Since 2009, the names of planets from the Dune novels have been adopted for the real-life nomenclature of plains and other features on Saturn's moon Titan.\n",
      "\n",
      "\n",
      "== Origins ==\n",
      "After his novel The Dragon in the Sea was published in 1957, Herbert traveled to Florence, Oregon, at the north end of the Oregon Dunes. Here, the United States Department of Agriculture was attempting to use poverty grasses to stabilize the sand dunes. Herbert claimed in a letter to his literary agent, Lurton Blassingame, that the moving dunes could \"swallow whole cities, lakes, rivers, highways.\" Herbert's article on the dunes, \"They Stopped the Moving Sands\", was never completed (and only published decades later in The Road to Dune), but its research sparked Herbert's interest in ecology and deserts.Herbert further drew inspiration from Native American mentors like \"Indian Henry\" (as Herbert referred to the man to his son; likely a Henry Martin of the Hoh tribe) and Howard Hansen. Both Martin and Hansen grew up on the Quileute reservation near Herbert's hometown. According to historian Daniel Immerwahr, Hansen regularly shared his writing with Herbert. \"White men are eating the earth,\" Hansen told Herbert in 1958, after sharing a piece on the effect of logging on the Quileute reservation. \"They're gonna turn this whole planet into a wasteland, just like North Africa.\" The world could become a \"big dune,\" Herbert responded in agreement.Herbert was also interested in the idea of the superhero mystique and messiahs. He believed that feudalism was a natural condition humans fell into, where some led and others gave up the responsibility of making decisions and just followed orders. He found that desert environments have historically given birth to several major religions with messianic impulses. He decided to join his interests together so he could play religious and ecological ideas against each other. In addition, he was influenced by the story of T. E. Lawrence and the \"messianic overtones\" in Lawrence's involvement in the Arab Revolt during World War I. In an early version of Dune, the hero was actually very similar to Lawrence of Arabia, but Herbert decided the plot was too straightforward and added more layers to his story.Herbert drew heavy inspiration also from Lesley Blanch's The Sabres of Paradise (1960), a narrative history recounting a mid-19th century conflict in the Caucasus between rugged Islamized caucasian tribes and the expansive Russian Empire. Language used on both sides of that conflict become terms in Herbert's world—chakobsa, a Caucasian hunting language, becomes a battle language of humans spread across the galaxy; kanly, a word for blood feud in the 19th century Caucasus, represents a feud between Dune's noble Houses; sietch and tabir are both words for camp borrowed from Ukrainian Cossacks (of the Pontic–Caspian steppe).Herbert also borrowed some lines which Blanch stated were Caucasian proverbs. \"To kill with the point lacked artistry\", used by Blanch to describe the Caucasus peoples' love of swordsmanship, becomes in Dune \"Killing with the tip lacks artistry\", a piece of advice given to a young Paul during his training. \"Polish comes from the city, wisdom from the hills\", a Caucasian aphorism, turns into a desert expression: \"Polish comes from the cities, wisdom from the desert\".\n",
      "\n",
      "Another significant source of inspiration for Dune was Herbert's experiences with psilocybin and his hobby of cultivating mushrooms, according to mycologist Paul Stamets's account of meeting Herbert in the 1980s:Frank went on to tell me that much of the premise of Dune—the magic spice (spores) that allowed the bending of space (tripping), the giant sand worms (maggots digesting mushrooms), the eyes of the Fremen (the cerulean blue of Psilocybe mushrooms), the mysticism of the female spiritual warriors, the Bene Gesserits (influenced by the tales of Maria Sabina and the sacred mushroom cults of Mexico)—came from his perception of the fungal life cycle, and his imagination was stimulated through his experiences with the use of magic mushrooms.Herbert spent the next five years researching, writing, and revising. He published a three-part serial Dune World in the monthly Analog, from December 1963 to February 1964. The serial was accompanied by several illustrations that were not published again. After an interval of a year, he published the much slower-paced five-part The Prophet of Dune in the January–May 1965 issues. The first serial became \"Book 1: Dune\" in the final published Dune novel, and the second serial was divided into \"Book Two: Muad'dib\" and \"Book Three: The Prophet\". The serialized version was expanded, reworked, and submitted to more than twenty publishers, each of whom rejected it. The novel, Dune, was finally accepted and published in August 1965 by Chilton Books, a printing house better known for publishing auto repair manuals. Sterling Lanier, an editor at Chilton, had seen Herbert's manuscript and had urged his company to take a risk in publishing the book. However, the first printing, priced at $5.95 (equivalent to $55.25 in 2022), did not sell well and was poorly received by critics as being atypical of science fiction at the time. Chilton considered the publication of Dune a write-off and Lanier was fired. Over the course of time, the book gained critical acclaim, and its popularity spread by word-of-mouth to allow Herbert to start working full time on developing the sequels to Dune, elements of which were already written alongside Dune.At first Herbert considered using Mars as setting for his novel, but eventually decided to use a fictional planet instead. His son Brian said that \"Readers would have too many preconceived ideas about that planet, due to the number of stories that had been written about it.\"Herbert dedicated his work \"to the people whose labors go beyond ideas into the realm of 'real materials'—to the dry-land ecologists, wherever they may be, in whatever time they work, this effort at prediction is dedicated in humility and admiration.\"\n",
      "\n",
      "\n",
      "== Plot ==\n",
      "Duke Leto Atreides of House Atreides, ruler of the ocean planet Caladan, is assigned by the Padishah Emperor Shaddam IV to serve as fief ruler of the planet Arrakis. Although Arrakis is a harsh and inhospitable desert planet, it is of enormous importance because it is the only planetary source of melange, or the \"spice\", a unique and incredibly valuable substance that extends human youth, vitality and lifespan. It is also through the consumption of spice that Spacing Guild Navigators are able to effect safe interstellar travel. Shaddam, jealous of Duke Leto Atreides's rising popularity in the Landsraad, sees House Atreides as a potential future rival and threat, so conspires with House Harkonnen, the former stewards of Arrakis and the longstanding enemies of House Atreides, to destroy Leto and his family after their arrival. Leto is aware his assignment is a trap of some kind, but is compelled to obey the Emperor's orders anyway.\n",
      "Leto's concubine Lady Jessica is an acolyte of the Bene Gesserit, an exclusively female group that pursues mysterious political aims and wields seemingly superhuman physical and mental abilities, such as the ability to control their bodies down to the cellular level, and also decide the sex of their children. Though Jessica was instructed by the Bene Gesserit to bear a daughter as part of their breeding program, out of love for Leto she bore a son, Paul. From a young age, Paul has been trained in warfare by Leto's aides, the elite soldiers Duncan Idaho and Gurney Halleck. Thufir Hawat, the Duke's Mentat (human computers, able to store vast amounts of data and perform advanced calculations on demand), has instructed Paul in the ways of political intrigue. Jessica has also trained her son in Bene Gesserit disciplines.\n",
      "Paul's prophetic dreams interest Jessica's superior, the Reverend Mother Gaius Helen Mohiam, who subjects Paul to the deadly gom jabbar test. Holding a poisonous needle to his neck ready to strike should he be unable to resist the impulse to withdraw his hand from the nerve induction box, she tests Paul's self-control to overcome the extreme psychological pain he is being subjected to through the box.\n",
      "Leto, Jessica, and Paul travel with their household to occupy Arrakeen, the capital on Arrakis formerly held by House Harkonnen. Leto learns of the dangers involved in harvesting the spice, which is protected by giant sandworms, and seeks to negotiate with the planet's native Fremen people, seeing them as a valuable ally rather than foes. Soon after the Atreides's arrival, Harkonnen forces attack, joined by the Emperor's ferocious Sardaukar troops in disguise. Leto is betrayed by his personal physician, the Suk doctor Wellington Yueh, who delivers a drugged Leto to the Baron Vladimir Harkonnen and his twisted Mentat, Piter De Vries. Yueh, however, arranges for Jessica and Paul to escape into the desert, where they are presumed dead by the Harkonnens. Yueh replaces one of Leto's teeth with a poison gas capsule, hoping Leto can kill the Baron during their encounter. The Baron narrowly avoids the gas due to his shield, which kills Leto, De Vries, and the others in the room. The Baron forces Hawat to take over De Vries's position by dosing him with a long-lasting, fatal poison and threatening to withhold the regular antidote doses unless he obeys. While he follows the Baron's orders, Hawat works secretly to undermine the Harkonnens.\n",
      "Having fled into the desert, Paul is exposed to high concentrations of spice and has visions through which he realizes he has significant powers (as a result of the Bene Gesserit breeding scheme). He foresees potential futures in which he lives among the planet's native Fremen before leading them on a Holy Jihad across the known universe.\n",
      "It is revealed Jessica is the daughter of Baron Harkonnen, a secret kept from her by the Bene Gesserit. After being captured by Fremen, Paul and Jessica are accepted into the Fremen community of Sietch Tabr, and teach the Fremen the Bene Gesserit fighting technique known as the \"weirding way\". Paul proves his manhood by killing a Fremen named Jamis in a ritualistic crysknife fight and chooses the Fremen name Muad'Dib, while Jessica opts to undergo a ritual to become a Reverend Mother by drinking the poisonous Water of Life. Pregnant with Leto's daughter, she inadvertently causes the unborn child, Alia, to become infused with the same powers in the womb. Paul takes a Fremen lover, Chani, and has a son with her, Leto II.\n",
      "Two years pass and Paul's powerful prescience manifests, which confirms for the Fremen that he is their prophesied messiah, a legend planted by the Bene Gesserit's Missionaria Protectiva. Paul embraces his father's belief that the Fremen could be a powerful fighting force to take back Arrakis, but also sees that if he does not control them, their jihad could consume the entire universe. Word of the new Fremen leader reaches both Baron Harkonnen and the Emperor as spice production falls due to their increasingly destructive raids. The Baron encourages his brutish nephew Glossu Rabban to rule with an iron fist, hoping the contrast with his shrewder nephew Feyd-Rautha will make the latter popular among the people of Arrakis when he eventually replaces Rabban. The Emperor, suspecting the Baron of trying to create troops more powerful than the Sardaukar to seize power, sends spies to monitor activity on Arrakis. Hawat uses the opportunity to sow seeds of doubt in the Baron about the Emperor's true plans, putting further strain on their alliance.\n",
      "Gurney, having survived the Harkonnen coup becomes a smuggler, reuniting with Paul and Jessica after a Fremen raid on his harvester. Believing Jessica to be the traitor, Gurney threatens to kill her, but is stopped by Paul. Paul did not foresee Gurney's attack, and concludes he must increase his prescience by drinking the Water of Life, which is traditionally fatal to males. Paul falls into unconsciousness for three weeks after drinking the poison, but when he wakes, he has clairvoyance across time and space: he is the Kwisatz Haderach, the ultimate goal of the Bene Gesserit breeding program.\n",
      "Paul senses the Emperor and Baron are amassing fleets around Arrakis to quell the Fremen rebellion, and prepares the Fremen for a major offensive against the Harkonnen troops. The Emperor arrives with the Baron on Arrakis. The Emperor's troops seize a Fremen outpost, killing many including young Leto II, while Alia is captured and taken to the Emperor. Under cover of an electric storm, which shorts out the Emperor's troops' defensive shields, Paul and the Fremen, riding giant sandworms, assault the capital while Alia assassinates the Baron and escapes. The Fremen quickly defeat both the Harkonnen and Sardaukar troops.\n",
      "Paul faces the Emperor, threatening to destroy spice production forever unless Shaddam abdicates the throne. Feyd-Rautha attempts to stop Paul by challenging him to a ritualistic knife fight, during which he attempts to cheat and kill Paul with a poison spur in his belt. Paul gains the upper hand and kills him. The Emperor reluctantly cedes the throne to Paul and promises his daughter Princess Irulan's hand in marriage. As Paul takes control of the Empire, he realizes that while he has achieved his goal, he is no longer able to stop the Fremen jihad, as their belief in him is too powerful to restrain.\n",
      "\n",
      "\n",
      "== Characters ==\n",
      "House AtreidesPaul Atreides, the Duke's son, and main character of the novel\n",
      "Duke Leto Atreides, head of House Atreides\n",
      "Lady Jessica, Bene Gesserit and concubine of the Duke, mother of Paul and Alia\n",
      "Alia Atreides, Paul's younger sister\n",
      "Thufir Hawat, Mentat and Master of Assassins to House Atreides\n",
      "Gurney Halleck, staunchly loyal troubadour warrior of the Atreides\n",
      "Duncan Idaho, Swordmaster for House Atreides, graduate of the Ginaz School\n",
      "Wellington Yueh, Suk doctor for the Atreides who is secretly working for House HarkonnenHouse HarkonnenBaron Vladimir Harkonnen, head of House Harkonnen\n",
      "Piter De Vries, twisted Mentat\n",
      "Feyd-Rautha, nephew and heir-presumptive of the Baron\n",
      "Glossu \"Beast\" Rabban, also called Rabban Harkonnen, older nephew of the Baron\n",
      "Iakin Nefud, Captain of the GuardHouse CorrinoShaddam IV, Padishah Emperor of the Known Universe (the Imperium)\n",
      "Princess Irulan, Shaddam's eldest daughter and heir, also a historian\n",
      "Count Fenring, the Emperor's closest friend, advisor, and \"errand boy\"Bene GesseritReverend Mother Gaius Helen Mohiam, Proctor Superior of the Bene Gesserit school and the Emperor's Truthsayer\n",
      "Lady Margot Fenring, Bene Gesserit wife of Count FenringFremenThe Fremen, native inhabitants of Arrakis\n",
      "Stilgar, Fremen leader of Sietch Tabr\n",
      "Chani, Paul's Fremen concubine and a Sayyadina (female acolyte) of Sietch Tabr\n",
      "Dr. Liet-Kynes, the Imperial Planetologist on Arrakis and father of Chani, as well as a revered figure among the Fremen\n",
      "The Shadout Mapes, head housekeeper of imperial residence on Arrakis\n",
      "Jamis, Fremen killed by Paul in ritual duel\n",
      "Harah, wife of Jamis and later servant to Paul who helps raise Alia among the Fremen\n",
      "Reverend Mother Ramallo, religious leader of Sietch TabrSmugglersEsmar Tuek, a powerful smuggler and the father of Staban Tuek\n",
      "Staban Tuek, the son of Esmar Tuek and a powerful smuggler who befriends and takes in Gurney Halleck and his surviving men after the attack on the Atreides\n",
      "\n",
      "\n",
      "== Themes and influences ==\n",
      "The Dune series is a landmark of science fiction. Herbert deliberately suppressed technology in his Dune universe so he could address the politics of humanity, rather than the future of humanity's technology. For example, a key pre-history event to the novel's present is the \"Butlerian Jihad\", in which all robots and computers were destroyed, eliminating these common elements to science fiction from the novel as to allow focus on humanity. Dune considers the way humans and their institutions might change over time. Director John Harrison, who adapted Dune for Syfy's 2000 miniseries, called the novel a universal and timeless reflection of \"the human condition and its moral dilemmas\", and said:\n",
      "\n",
      "A lot of people refer to Dune as science fiction. I never do. I consider it an epic adventure in the classic storytelling tradition, a story of myth and legend not unlike the Morte d'Arthur or any messiah story. It just happens to be set in the future ... The story is actually more relevant today than when Herbert wrote it. In the 1960s, there were just these two colossal superpowers duking it out. Today we're living in a more feudal, corporatized world more akin to Herbert's universe of separate families, power centers and business interests, all interrelated and kept together by the one commodity necessary to all.\n",
      "But Dune has also been called a mix of soft and hard science fiction since \"the attention to ecology is hard, the anthropology and the psychic abilities are soft.\" Hard elements include the ecology of Arrakis, suspensor technology, weapon systems, and ornithopters, while soft elements include issues relating to religion, physical and mental training, cultures, politics, and psychology.Herbert said Paul's messiah figure was inspired by the Arthurian legend, and that the scarcity of water on Arrakis was a metaphor for oil, as well as air and water itself, and for the shortages of resources caused by overpopulation. Novelist Brian Herbert, his son and biographer, wrote:\n",
      "\n",
      "Dune is a modern-day conglomeration of familiar myths, a tale in which great sandworms guard a precious treasure of melange, the geriatric spice that represents, among other things, the finite resource of oil. The planet Arrakis features immense, ferocious worms that are like dragons of lore, with \"great teeth\" and a \"bellows breath of cinnamon.\" This resembles the myth described by an unknown English poet in Beowulf, the compelling tale of a fearsome fire dragon who guarded a great treasure hoard in a lair under cliffs, at the edge of the sea. The desert of Frank Herbert's classic novel is a vast ocean of sand, with giant worms diving into the depths, the mysterious and unrevealed domain of Shai-hulud. Dune tops are like the crests of waves, and there are powerful sandstorms out there, creating extreme danger. On Arrakis, life is said to emanate from the Maker (Shai-hulud) in the desert-sea; similarly all life on Earth is believed to have evolved from our oceans. Frank Herbert drew parallels, used spectacular metaphors, and extrapolated present conditions into world systems that seem entirely alien at first blush. But close examination reveals they aren't so different from systems we know … and the book characters of his imagination are not so different from people familiar to us.\n",
      "Each chapter of Dune begins with an epigraph excerpted from the fictional writings of the character Princess Irulan. In forms such as diary entries, historical commentary, biography, quotations and philosophy, these writings set tone and provide exposition, context and other details intended to enhance understanding of Herbert's complex fictional universe and themes. They act as foreshadowing and invite the reader to keep reading to close the gap between what the epigraph says and what is happening in the main narrative. The epigraphs also give the reader the feeling that the world they are reading about is epically distanced, since Irulan writes about an idealized image of Paul as if he had already passed into memory. Brian Herbert wrote: \"Dad told me that you could follow any of the novel's layers as you read it, and then start the book all over again, focusing on an entirely different layer. At the end of the book, he intentionally left loose ends and said he did this to send the readers spinning out of the story with bits and pieces of it still clinging to them, so that they would want to go back and read it again.\"\n",
      "\n",
      "\n",
      "=== Middle-Eastern and Islamic references ===\n",
      "Due to the similarities between some of Herbert's terms and ideas and actual words and concepts in the Arabic language, as well as the series' \"Islamic undertones\" and themes, a Middle-Eastern influence on Herbert's works has been noted repeatedly. In his descriptions of the Fremen culture and language, Herbert uses both authentic Arabic words and Arabic-sounding words. For example, one of the names for the sandworm, Shai-hulud, is derived from Arabic: شيء خلود, romanized: šayʾ ḫulūd, lit. 'immortal thing' or Arabic: شيخ خلود, romanized: šayḫ ḫulūd, lit. 'old man of eternity'. The title of the Fremen housekeeper, the Shadout Mapes, is borrowed from the Arabic: شادوف‎, romanized: šādūf, the Egyptian term for a device used to raise water. In particular, words related to the messianic religion of the Fremen, first implanted by the Bene Gesserit, are taken from Arabic, including Muad'Dib (from Arabic: مؤدب, romanized: muʾaddib, lit. 'educator'), Usul (from Arabic: أصول, romanized: ʾuṣūl, lit. 'fundamental principles'), Shari-a (from Arabic: شريعة, romanized: šarīʿa, lit. 'sharia; path'), Shaitan (from Arabic: شيطان, romanized: šayṭān, lit. 'Shaitan; devil; fiend', and jinn (from Arabic: جن, romanized: ǧinn, lit. 'jinn; spirit; demon; mythical being'). It is likely Herbert relied on second-hand resources such as phrasebooks and desert adventure stories to find these Arabic words and phrases for the Fremen. They are meaningful and carefully chosen, and help create an \"imagined desert culture that resonates with exotic sounds, enigmas, and pseudo-Islamic references\" and has a distinctly Bedouin aesthetic.As a foreigner who adopts the ways of a desert-dwelling people and then leads them in a military capacity, Paul Atreides bears many similarities to the historical T. E. Lawrence. His 1962 biopic Lawrence of Arabia has also been identified as a potential influence. The Sabres of Paradise (1960) has also been identified as a potential influence upon Dune, with its depiction of Imam Shamil and the Islamic culture of the Caucasus inspiring some of the themes, characters, events and terminology of Dune.The environment of the desert planet Arrakis was primarily inspired by the environments of the Middle East. Similarly Arrakis as a bioregion is presented as a particular kind of political site. Herbert has made it resemble a desertified petrostate area. The Fremen people of Arrakis were influenced by the Bedouin tribes of Arabia, and the Mahdi prophecy originates from Islamic eschatology. Inspiration is also adopted from medieval historian Ibn Khaldun's cyclical history and his dynastic concept in North Africa, hinted at by Herbert's reference to Khaldun's book Kitāb al-ʿibar (\"The Book of Lessons\"). The fictionalized version of the \"Kitab al-ibar\" in Dune is a combination of a Fremen religious manual and a desert survival book.\n",
      "\n",
      "\n",
      "==== Additional language and historic influences ====\n",
      "In addition to Arabic, Dune derives words and names from a variety of other languages, including Hebrew, Navajo, Latin, Dutch (\"Landsraad\"), Chakobsa, the Nahuatl language of the Aztecs, Greek, Persian, Sanskrit (\"prana bindu\", \"prajna\"), Russian, Turkish, Finnish, and Old English. Bene Gesserit is simply the Latin for \"It will have been well fought\", also carrying the sense of \"It will have been well managed\", which stands as a statement of the order's goal and as a pledge of faithfulness to that goal.  Critics tend to miss the literal meaning of the phrase, some positing that the term is derived from the Latin meaning \"it will have been well borne\", which interpretation is not well supported by their doctrine in the story.Through the inspiration from The Sabres of Paradise, there are also allusions to the tsarist-era Russian nobility and Cossacks. Frank Herbert stated that bureaucracy that lasted long enough would become a hereditary nobility, and a significant theme behind the aristocratic families in Dune was \"aristocratic bureaucracy\" which he saw as analogous to the Soviet Union.\n",
      "\n",
      "\n",
      "=== Environmentalism and ecology ===\n",
      "Dune has been called the \"first planetary ecology novel on a grand scale\". Herbert hoped it would be seen as an \"environmental awareness handbook\" and said the title was meant to \"echo the sound of 'doom'\". It was reviewed in the best selling countercultural Whole Earth Catalog in 1968 as a \"rich re-readable fantasy with clear portrayal of the fierce environment it takes to cohere a community\".After the publication of Silent Spring by Rachel Carson in 1962, science fiction writers began treating the subject of ecological change and its consequences. Dune responded in 1965 with its complex descriptions of Arrakis life, from giant sandworms (for whom water is deadly) to smaller, mouse-like life forms adapted to live with limited water. Dune was followed in its creation of complex and unique ecologies by other science fiction books such as A Door into Ocean (1986) and Red Mars (1992). Environmentalists have pointed out that Dune's popularity as a novel depicting a planet as a complex—almost living—thing, in combination with the first images of Earth from space being published in the same time period, strongly influenced environmental movements such as the establishment of the international Earth Day.While the genre of climate fiction was popularized in the 2010s in response to real global climate change, Dune as well as other early science fiction works from authors like J. G. Ballard (The Drowned World) and Kim Stanley Robinson (the Mars trilogy) have retroactively been considered pioneering examples of the genre.\n",
      "\n",
      "\n",
      "=== Declining empires ===\n",
      "The Imperium in Dune contains features of various empires in Europe and the Near East, including the Roman Empire, Holy Roman Empire, and Ottoman Empire. Lorenzo DiTommaso compared Dune's portrayal of the downfall of a galactic empire to Edward Gibbon's Decline and Fall of the Roman Empire, which argues that Christianity allied with the profligacy of the Roman elite led to the fall of Ancient Rome. In \"The Articulation of Imperial Decadence and Decline in Epic Science Fiction\" (2007), DiTommaso outlines similarities between the two works by highlighting the excesses of the Emperor on his home planet of Kaitain and of the Baron Harkonnen in his palace. The Emperor loses his effectiveness as a ruler through an excess of ceremony and pomp. The hairdressers and attendants he brings with him to Arrakis are even referred to as \"parasites\". The Baron Harkonnen is similarly corrupt and materially indulgent. Gibbon's Decline and Fall partly blames the fall of Rome on the rise of Christianity. Gibbon claimed that this exotic import from a conquered province weakened the soldiers of Rome and left it open to attack. The Emperor's Sardaukar fighters are little match for the Fremen of Dune not only because of the Sardaukar's overconfidence and the fact that Jessica and Paul have trained the Fremen in their battle tactics, but because of the Fremen's capacity for self-sacrifice. The Fremen put the community before themselves in every instance, while the world outside wallows in luxury at the expense of others.The decline and long peace of the Empire sets the stage for revolution and renewal by genetic mixing of successful and unsuccessful groups through war, a process culminating in the Jihad led by Paul Atreides, described by Frank Herbert as depicting \"war as a collective orgasm\" (drawing on Norman Walter's 1950 The Sexual Cycle of Human Warfare), themes that would reappear in God Emperor of Dune's Scattering and Leto II's all-female Fish Speaker army.\n",
      "\n",
      "\n",
      "=== Gender dynamics ===\n",
      "Gender dynamics are complex in Dune.   Within the Fremen sietch communities, women have almost full equality.  They carry weapons and travel in raiding parties with men, fighting when necessary alongside the men.  They can take positions of leadership as a Sayyadina or as a Reverend Mother (if she can survive the ritual of ingesting the Water of Life.)  Both of these sietch religious leaders are routinely consulted by the all-male Council and can have a decisive voice in all matters of sietch life, security and internal politics.  They are also protected by the entire community.  Due to the high mortality rate among their men, women outnumber men in most sietches. Polygamy is common, and sexual relationships are voluntary and consensual; as Stilgar says to Jessica, \"women among us are not taken against their will.\"  \n",
      "In contrast, the Imperial aristocracy leaves young women of noble birth very little agency. Frequently trained by the Bene Gesserit, they are raised to eventually marry other aristocrats. Marriages between Major and Minor Houses are political tools to forge alliances or heal old feuds; women are given very little say in the matter. Many such marriages are quietly maneuvered by the Bene Gesserit to produce offspring with some genetic characteristics needed by the sisterhood's human-breeding program. In addition, such highly-placed sisters were in a position to subtly influence their husbands' actions in ways that could move the politics of the Imperium toward Bene Gesserit goals. \n",
      "The gom jabbar test of humanity is administered by the female Bene Gesserit order but rarely to males. The Bene Gesserit have seemingly mastered the unconscious and can play on the unconscious weaknesses of others using the Voice, yet their breeding program seeks after a male Kwisatz Haderach. Their plan is to produce a male who can \"possess complete racial memory, both male and female,\" and look into the black hole in the collective unconscious that they fear. A central theme of the book is the connection, in Jessica's son, of this female aspect with his male aspect. This aligns with concepts in Jungian psychology, which features conscious/unconscious and taking/giving roles associated with males and females, as well as the idea of the collective unconscious. Paul's approach to power consistently requires his upbringing under the matriarchal Bene Gesserit, who operate as a long-dominating shadow government behind all of the great houses and their marriages or divisions. He is trained by Jessica in the Bene Gesserit Way, which includes prana-bindu training in nerve and muscle control and precise perception. Paul also receives Mentat training, thus helping prepare him to be a type of androgynous Kwisatz Haderach, a male Reverend Mother.In a Bene Gesserit test early in the book, it is implied that people are generally \"inhuman\" in that they irrationally place desire over self-interest and reason. This applies Herbert's philosophy that humans are not created equal, while equal justice and equal opportunity are higher ideals than mental, physical, or moral equality.\n",
      "\n",
      "\n",
      "=== Heroism ===\n",
      "I am showing you the superhero syndrome and your own participation in it.\n",
      "Throughout Paul's rise to superhuman status, he follows a plotline common to many stories describing the birth of a hero. He has unfortunate circumstances forced onto him. After a long period of hardship and exile, he confronts and defeats the source of evil in his tale. As such, Dune is representative of a general trend beginning in 1960s American science fiction in that it features a character who attains godlike status through scientific means. Eventually, Paul Atreides gains a level of omniscience which allows him to take over the planet and the galaxy, and causes the Fremen of Arrakis to worship him like a god. Author Frank Herbert said in 1979, \"The bottom line of the Dune trilogy is: beware of heroes. Much better  [to] rely on your own judgment, and your own mistakes.\" He wrote in 1985, \"Dune was aimed at this whole idea of the infallible leader because my view of history says that mistakes made by a leader (or made in a leader's name) are amplified by the numbers who follow without question.\"Juan A. Prieto-Pablos says Herbert achieves a new typology with Paul's superpowers, differentiating the heroes of Dune from earlier heroes such as Superman, van Vogt's Gilbert Gosseyn and Henry Kuttner's telepaths. Unlike previous superheroes who acquire their powers suddenly and accidentally, Paul's are the result of \"painful and slow personal progress.\" And unlike other superheroes of the 1960s—who are the exception among ordinary people in their respective worlds—Herbert's characters grow their powers through \"the application of mystical philosophies and techniques.\" For Herbert, the ordinary person can develop incredible fighting skills (Fremen, Ginaz swordsmen and Sardaukar) or mental abilities (Bene Gesserit, Mentats, Spacing Guild Navigators).\n",
      "\n",
      "\n",
      "=== Zen and religion ===\n",
      "\n",
      "Early in his newspaper career, Herbert was introduced to Zen by two Jungian psychologists, Ralph and Irene Slattery, who \"gave a crucial boost to his thinking\". Zen teachings ultimately had \"a profound and continuing influence on [Herbert's] work\". Throughout the Dune series and particularly in Dune, Herbert employs concepts and forms borrowed from Zen Buddhism. The Fremen are referred to as Zensunni adherents, and many of Herbert's epigraphs are Zen-spirited. In \"Dune Genesis\", Frank Herbert wrote:\n",
      "\n",
      "What especially pleases me is to see the interwoven themes, the fugue like relationships of images that exactly replay the way Dune took shape. As in an Escher lithograph, I involved myself with recurrent themes that turn into paradox. The central paradox concerns the human vision of time. What about Paul's gift of prescience - the Presbyterian fixation? For the Delphic Oracle to perform, it must tangle itself in a web of predestination. Yet predestination negates surprises and, in fact, sets up a mathematically enclosed universe whose limits are always inconsistent, always encountering the unprovable. It's like a koan, a Zen mind breaker. It's like the Cretan Epimenides saying, \"All Cretans are liars.\"\n",
      "Brian Herbert called the Dune universe \"a spiritual melting pot\", noting that his father incorporated elements of a variety of religions, including Buddhism, Sufi mysticism and other Islamic belief systems, Catholicism, Protestantism, Judaism, and Hinduism. He added that Frank Herbert's fictional future in which \"religious beliefs have combined into interesting forms\" represents the author's solution to eliminating arguments between religions, each of which claimed to have \"the one and only revelation.\"\n"
     ]
    }
   ],
   "source": [
    "print(documents[0].page_content)"
   ]
  },
  {
   "cell_type": "code",
   "execution_count": 156,
   "metadata": {},
   "outputs": [],
   "source": [
    "example_output = [\n",
    "   dict(\n",
    "    title=\"Person\",\n",
    "    type=\"object\",\n",
    "    description=\"Node\",\n",
    "    properties=[\n",
    "        dict(name=\"name\", type=\"string\", description=\"The name of the person\", examples=[\"Tom Hanks\"]),\n",
    "        # dict(name=\"date_of_birth\", column_name=\"person_dob\", type=\"date\", description=\"The date of birth for the person\", examples=[\"1987-06-05\"]),\n",
    "        # dict(name=\"id\", column_name=\"person_name, date_of_birth\", type=\"string\", description=\"The ID is a combination of name and date of birth to ensure uniqueness\", examples=[\"tom-hanks-1987-06-05\"]),\n",
    "    ],\n",
    "  ),\n",
    "#    dict(\n",
    "#     title=\"Director\",\n",
    "#     type=\"object\",\n",
    "#     description=\"Node\",\n",
    "#     properties=[\n",
    "#         dict(name=\"name\", column_name=\"director_names\", type=\"string\", description=\"The name of the directors. Split values in text by a comma\", examples=[\"Francis Ford Coppola\"]),\n",
    "#     ],\n",
    "#   ),\n",
    "#    dict(\n",
    "#     title=\"Movie\",\n",
    "#     type=\"object\",\n",
    "#     description=\"Node\",\n",
    "#     properties=[\n",
    "#         dict(name=\"title\", column_name=\"title\", type=\"string\", description=\"The title of the movie\", examples=[\"Toy Story\"]),\n",
    "#         dict(name=\"released\", column_name=\"released\", type=\"integer\", description=\"The year the movie was released\", examples=[\"1990\"]),\n",
    "#     ],)\n",
    "   dict(\n",
    "    title=\"IS_FATHER_OF\",\n",
    "    type=\"object\",\n",
    "    description=\"Relationship\",\n",
    "    properties=[\n",
    "        dict(name=\"_from\", type=\"string\", description=\"The Father\", examples=[\"Person\"]),\n",
    "        dict(name=\"_to\", type=\"string\", description=\"The child\", examples=[\"Person\"]),\n",
    "    ]\n",
    "  )\n",
    "#    dict(\n",
    "#     title=\"DIRECTED\",\n",
    "#     type=\"object\",\n",
    "#     description=\"Relationship\",\n",
    "#     properties=[\n",
    "#         dict(name=\"_from\", type=\"string\", column_name=\"director_names\", description=\"Director names are comma separated\", examples=[\"Director\"]),\n",
    "#         dict(name=\"_to\", type=\"string\", column_name=\"title\", description=\"The label of the node this relationship ends at\", examples=[\"Movie\"]),\n",
    "#     ],\n",
    "#   ),\n",
    "]"
   ]
  },
  {
   "cell_type": "code",
   "execution_count": 159,
   "metadata": {},
   "outputs": [],
   "source": [
    "from langchain.prompts import PromptTemplate\n",
    "from json import dumps\n",
    "\n",
    "model_prompt = PromptTemplate.from_template(\"\"\"\n",
    "You are an expert Graph Database administrator.\n",
    "Your task is to design a data model based on the information provided from an existing data source.\n",
    "\n",
    "You must decide where the following text fits in with the existing data model.  Consider:\n",
    "* Does the text represent an entity, for example a Person, Place, or Movie?  If so, this should be a node in its own right.\n",
    "* Does the text represent a relationship between two entities?  If so, this should be a relationship between two nodes.\n",
    "                                            \n",
    "This is the text you need to consider: {text}\n",
    "\n",
    "Here is an example of a good output:\n",
    "{example_output}\n",
    "\"\"\", partial_variables=dict(example_output=dumps(example_output)))\n",
    "\n",
    "chain = model_prompt | llm | parser"
   ]
  },
  {
   "cell_type": "code",
   "execution_count": 160,
   "metadata": {},
   "outputs": [],
   "source": [
    "result = chain.invoke({\"text\": documents[0].page_content})\n",
    "\n",
    "# # Process all chunks in parallel using batch\n",
    "# results = chain.batch([{\"text\": chunk.page_content} for chunk in documents], {\"max_concurrency\": 5})\n",
    "\n",
    "# # Print the results\n",
    "# for result in results:\n",
    "#     PrettyPrinter().pprint(result) "
   ]
  },
  {
   "cell_type": "code",
   "execution_count": 3,
   "metadata": {},
   "outputs": [],
   "source": [
    "#PrettyPrinter().pprint(result)"
   ]
  },
  {
   "cell_type": "code",
   "execution_count": 10,
   "metadata": {},
   "outputs": [],
   "source": [
    "from langchain_community.graphs import Neo4jGraph\n",
    "\n",
    "url = \"bolt://localhost:7687\"  # Default local Neo4j URL\n",
    "password = \"neo4j_password\"  # Set this to your database password\n",
    "\n",
    "graph = Neo4jGraph(\n",
    "    url=url,\n",
    "    username=\"neo4j\",\n",
    "    password=password,\n",
    "    database=\"dune-example\",\n",
    ")"
   ]
  },
  {
   "cell_type": "code",
   "execution_count": 11,
   "metadata": {},
   "outputs": [],
   "source": [
    "from langchain_experimental.graph_transformers import LLMGraphTransformer\n",
    "\n",
    "llm_transformer = LLMGraphTransformer(llm=llm)"
   ]
  },
  {
   "cell_type": "code",
   "execution_count": 12,
   "metadata": {},
   "outputs": [
    {
     "name": "stdout",
     "output_type": "stream",
     "text": [
      "Nodes:[Node(id='Duke Leto Atreides', type='Person', properties={}), Node(id='House Atreides', type='Organization', properties={}), Node(id='Caladan', type='Place', properties={}), Node(id='Padishah Emperor Shaddam Iv', type='Person', properties={}), Node(id='Arrakis', type='Place', properties={}), Node(id='Melange', type='Substance', properties={}), Node(id='Spacing Guild Navigators', type='Organization', properties={}), Node(id='House Harkonnen', type='Organization', properties={}), Node(id='Lady Jessica', type='Person', properties={}), Node(id='Bene Gesserit', type='Organization', properties={}), Node(id='Paul', type='Person', properties={}), Node(id='Duncan Idaho', type='Person', properties={}), Node(id='Gurney Halleck', type='Person', properties={}), Node(id='Thufir Hawat', type='Person', properties={}), Node(id='Reverend Mother Gaius Helen Mohiam', type='Person', properties={}), Node(id='Gom Jabbar Test', type='Event', properties={}), Node(id='Arrakeen', type='Place', properties={}), Node(id='Wellington Yueh', type='Person', properties={}), Node(id='Baron Vladimir Harkonnen', type='Person', properties={}), Node(id='Piter De Vries', type='Person', properties={}), Node(id='Sardaukar', type='Organization', properties={}), Node(id='Fremen', type='Organization', properties={}), Node(id='Jamis', type='Person', properties={}), Node(id=\"Muad'Dib\", type='Person', properties={}), Node(id='Water Of Life', type='Substance', properties={}), Node(id='Alia', type='Person', properties={}), Node(id='Chani', type='Person', properties={}), Node(id='Leto Ii', type='Person', properties={}), Node(id='Kwisatz Haderach', type='Person', properties={}), Node(id='Glossu Rabban', type='Person', properties={}), Node(id='Feyd-Rautha', type='Person', properties={}), Node(id='Princess Irulan', type='Person', properties={})]\n",
      "Relationships:[Relationship(source=Node(id='Duke Leto Atreides', type='Person', properties={}), target=Node(id='House Atreides', type='Organization', properties={}), type='MEMBER_OF', properties={}), Relationship(source=Node(id='Duke Leto Atreides', type='Person', properties={}), target=Node(id='Caladan', type='Place', properties={}), type='RULER_OF', properties={}), Relationship(source=Node(id='Padishah Emperor Shaddam Iv', type='Person', properties={}), target=Node(id='Duke Leto Atreides', type='Person', properties={}), type='ASSIGNED', properties={}), Relationship(source=Node(id='Padishah Emperor Shaddam Iv', type='Person', properties={}), target=Node(id='Arrakis', type='Place', properties={}), type='ASSIGNED', properties={}), Relationship(source=Node(id='Arrakis', type='Place', properties={}), target=Node(id='Melange', type='Substance', properties={}), type='SOURCE_OF', properties={}), Relationship(source=Node(id='Melange', type='Substance', properties={}), target=Node(id='Spacing Guild Navigators', type='Organization', properties={}), type='ENABLES', properties={}), Relationship(source=Node(id='Padishah Emperor Shaddam Iv', type='Person', properties={}), target=Node(id='House Harkonnen', type='Organization', properties={}), type='CONSPIRES_WITH', properties={}), Relationship(source=Node(id='House Harkonnen', type='Organization', properties={}), target=Node(id='House Atreides', type='Organization', properties={}), type='ENEMY_OF', properties={}), Relationship(source=Node(id='Lady Jessica', type='Person', properties={}), target=Node(id='Duke Leto Atreides', type='Person', properties={}), type='CONCUBINE_OF', properties={}), Relationship(source=Node(id='Lady Jessica', type='Person', properties={}), target=Node(id='Bene Gesserit', type='Organization', properties={}), type='MEMBER_OF', properties={}), Relationship(source=Node(id='Lady Jessica', type='Person', properties={}), target=Node(id='Paul', type='Person', properties={}), type='MOTHER_OF', properties={}), Relationship(source=Node(id='Duke Leto Atreides', type='Person', properties={}), target=Node(id='Paul', type='Person', properties={}), type='FATHER_OF', properties={}), Relationship(source=Node(id='Duncan Idaho', type='Person', properties={}), target=Node(id='Paul', type='Person', properties={}), type='TRAINED', properties={}), Relationship(source=Node(id='Gurney Halleck', type='Person', properties={}), target=Node(id='Paul', type='Person', properties={}), type='TRAINED', properties={}), Relationship(source=Node(id='Thufir Hawat', type='Person', properties={}), target=Node(id='Paul', type='Person', properties={}), type='INSTRUCTED', properties={}), Relationship(source=Node(id='Reverend Mother Gaius Helen Mohiam', type='Person', properties={}), target=Node(id='Paul', type='Person', properties={}), type='TESTED', properties={}), Relationship(source=Node(id='Gom Jabbar Test', type='Event', properties={}), target=Node(id='Paul', type='Person', properties={}), type='INVOLVED', properties={}), Relationship(source=Node(id='Duke Leto Atreides', type='Person', properties={}), target=Node(id='Arrakeen', type='Place', properties={}), type='TRAVELED_TO', properties={}), Relationship(source=Node(id='Lady Jessica', type='Person', properties={}), target=Node(id='Arrakeen', type='Place', properties={}), type='TRAVELED_TO', properties={}), Relationship(source=Node(id='Paul', type='Person', properties={}), target=Node(id='Arrakeen', type='Place', properties={}), type='TRAVELED_TO', properties={}), Relationship(source=Node(id='Wellington Yueh', type='Person', properties={}), target=Node(id='Duke Leto Atreides', type='Person', properties={}), type='BETRAYED', properties={}), Relationship(source=Node(id='Wellington Yueh', type='Person', properties={}), target=Node(id='Baron Vladimir Harkonnen', type='Person', properties={}), type='DELIVERED', properties={}), Relationship(source=Node(id='Baron Vladimir Harkonnen', type='Person', properties={}), target=Node(id='Piter De Vries', type='Person', properties={}), type='ALLIED_WITH', properties={}), Relationship(source=Node(id='Baron Vladimir Harkonnen', type='Person', properties={}), target=Node(id='Thufir Hawat', type='Person', properties={}), type='FORCED', properties={}), Relationship(source=Node(id='Paul', type='Person', properties={}), target=Node(id='Fremen', type='Organization', properties={}), type='JOINED', properties={}), Relationship(source=Node(id='Lady Jessica', type='Person', properties={}), target=Node(id='Fremen', type='Organization', properties={}), type='JOINED', properties={}), Relationship(source=Node(id='Paul', type='Person', properties={}), target=Node(id=\"Muad'Dib\", type='Person', properties={}), type='BECAME', properties={}), Relationship(source=Node(id='Lady Jessica', type='Person', properties={}), target=Node(id='Water Of Life', type='Substance', properties={}), type='DRANK', properties={}), Relationship(source=Node(id='Lady Jessica', type='Person', properties={}), target=Node(id='Alia', type='Person', properties={}), type='MOTHER_OF', properties={}), Relationship(source=Node(id='Paul', type='Person', properties={}), target=Node(id='Chani', type='Person', properties={}), type='LOVER_OF', properties={}), Relationship(source=Node(id='Paul', type='Person', properties={}), target=Node(id='Leto Ii', type='Person', properties={}), type='FATHER_OF', properties={}), Relationship(source=Node(id='Paul', type='Person', properties={}), target=Node(id='Kwisatz Haderach', type='Person', properties={}), type='BECAME', properties={}), Relationship(source=Node(id='Glossu Rabban', type='Person', properties={}), target=Node(id='Feyd-Rautha', type='Person', properties={}), type='RELATED_TO', properties={}), Relationship(source=Node(id='Paul', type='Person', properties={}), target=Node(id='Princess Irulan', type='Person', properties={}), type='MARRIED', properties={})]\n"
     ]
    }
   ],
   "source": [
    "from langchain_core.documents import Document\n",
    "\n",
    "text = \"\"\"\n",
    "Marie Curie, born in 1867, was a Polish and naturalised-French physicist and chemist who conducted pioneering research on radioactivity.\n",
    "She was the first woman to win a Nobel Prize, the first person to win a Nobel Prize twice, and the only person to win a Nobel Prize in two scientific fields.\n",
    "Her husband, Pierre Curie, was a co-winner of her first Nobel Prize, making them the first-ever married couple to win the Nobel Prize and launching the Curie family legacy of five Nobel Prizes.\n",
    "She was, in 1906, the first woman to become a professor at the University of Paris.\n",
    "\"\"\"\n",
    "\n",
    "text = \"\"\"Duke Leto Atreides of House Atreides, ruler of the ocean planet Caladan, is assigned by the Padishah Emperor Shaddam IV to serve as fief ruler of the planet Arrakis. Although Arrakis is a harsh and inhospitable desert planet, it is of enormous importance because it is the only planetary source of melange, or the \"spice\", a unique and incredibly valuable substance that extends human youth, vitality and lifespan. It is also through the consumption of spice that Spacing Guild Navigators are able to effect safe interstellar travel. Shaddam, jealous of Duke Leto Atreides's rising popularity in the Landsraad, sees House Atreides as a potential future rival and threat, so conspires with House Harkonnen, the former stewards of Arrakis and the longstanding enemies of House Atreides, to destroy Leto and his family after their arrival. Leto is aware his assignment is a trap of some kind, but is compelled to obey the Emperor's orders anyway.\n",
    "Leto's concubine Lady Jessica is an acolyte of the Bene Gesserit, an exclusively female group that pursues mysterious political aims and wields seemingly superhuman physical and mental abilities, such as the ability to control their bodies down to the cellular level, and also decide the sex of their children. Though Jessica was instructed by the Bene Gesserit to bear a daughter as part of their breeding program, out of love for Leto she bore a son, Paul. From a young age, Paul has been trained in warfare by Leto's aides, the elite soldiers Duncan Idaho and Gurney Halleck. Thufir Hawat, the Duke's Mentat (human computers, able to store vast amounts of data and perform advanced calculations on demand), has instructed Paul in the ways of political intrigue. Jessica has also trained her son in Bene Gesserit disciplines.\n",
    "Paul's prophetic dreams interest Jessica's superior, the Reverend Mother Gaius Helen Mohiam, who subjects Paul to the deadly gom jabbar test. Holding a poisonous needle to his neck ready to strike should he be unable to resist the impulse to withdraw his hand from the nerve induction box, she tests Paul's self-control to overcome the extreme psychological pain he is being subjected to through the box.\n",
    "Leto, Jessica, and Paul travel with their household to occupy Arrakeen, the capital on Arrakis formerly held by House Harkonnen. Leto learns of the dangers involved in harvesting the spice, which is protected by giant sandworms, and seeks to negotiate with the planet's native Fremen people, seeing them as a valuable ally rather than foes. Soon after the Atreides's arrival, Harkonnen forces attack, joined by the Emperor's ferocious Sardaukar troops in disguise. Leto is betrayed by his personal physician, the Suk doctor Wellington Yueh, who delivers a drugged Leto to the Baron Vladimir Harkonnen and his twisted Mentat, Piter De Vries. Yueh, however, arranges for Jessica and Paul to escape into the desert, where they are presumed dead by the Harkonnens. Yueh replaces one of Leto's teeth with a poison gas capsule, hoping Leto can kill the Baron during their encounter. The Baron narrowly avoids the gas due to his shield, which kills Leto, De Vries, and the others in the room. The Baron forces Hawat to take over De Vries's position by dosing him with a long-lasting, fatal poison and threatening to withhold the regular antidote doses unless he obeys. While he follows the Baron's orders, Hawat works secretly to undermine the Harkonnens.\n",
    "Having fled into the desert, Paul is exposed to high concentrations of spice and has visions through which he realizes he has significant powers (as a result of the Bene Gesserit breeding scheme). He foresees potential futures in which he lives among the planet's native Fremen before leading them on a Holy Jihad across the known universe.\n",
    "It is revealed Jessica is the daughter of Baron Harkonnen, a secret kept from her by the Bene Gesserit. After being captured by Fremen, Paul and Jessica are accepted into the Fremen community of Sietch Tabr, and teach the Fremen the Bene Gesserit fighting technique known as the \"weirding way\". Paul proves his manhood by killing a Fremen named Jamis in a ritualistic crysknife fight and chooses the Fremen name Muad'Dib, while Jessica opts to undergo a ritual to become a Reverend Mother by drinking the poisonous Water of Life. Pregnant with Leto's daughter, she inadvertently causes the unborn child, Alia, to become infused with the same powers in the womb. Paul takes a Fremen lover, Chani, and has a son with her, Leto II.\n",
    "Two years pass and Paul's powerful prescience manifests, which confirms for the Fremen that he is their prophesied messiah, a legend planted by the Bene Gesserit's Missionaria Protectiva. Paul embraces his father's belief that the Fremen could be a powerful fighting force to take back Arrakis, but also sees that if he does not control them, their jihad could consume the entire universe. Word of the new Fremen leader reaches both Baron Harkonnen and the Emperor as spice production falls due to their increasingly destructive raids. The Baron encourages his brutish nephew Glossu Rabban to rule with an iron fist, hoping the contrast with his shrewder nephew Feyd-Rautha will make the latter popular among the people of Arrakis when he eventually replaces Rabban. The Emperor, suspecting the Baron of trying to create troops more powerful than the Sardaukar to seize power, sends spies to monitor activity on Arrakis. Hawat uses the opportunity to sow seeds of doubt in the Baron about the Emperor's true plans, putting further strain on their alliance.\n",
    "Gurney, having survived the Harkonnen coup becomes a smuggler, reuniting with Paul and Jessica after a Fremen raid on his harvester. Believing Jessica to be the traitor, Gurney threatens to kill her, but is stopped by Paul. Paul did not foresee Gurney's attack, and concludes he must increase his prescience by drinking the Water of Life, which is traditionally fatal to males. Paul falls into unconsciousness for three weeks after drinking the poison, but when he wakes, he has clairvoyance across time and space: he is the Kwisatz Haderach, the ultimate goal of the Bene Gesserit breeding program.\n",
    "Paul senses the Emperor and Baron are amassing fleets around Arrakis to quell the Fremen rebellion, and prepares the Fremen for a major offensive against the Harkonnen troops. The Emperor arrives with the Baron on Arrakis. The Emperor's troops seize a Fremen outpost, killing many including young Leto II, while Alia is captured and taken to the Emperor. Under cover of an electric storm, which shorts out the Emperor's troops' defensive shields, Paul and the Fremen, riding giant sandworms, assault the capital while Alia assassinates the Baron and escapes. The Fremen quickly defeat both the Harkonnen and Sardaukar troops.\n",
    "Paul faces the Emperor, threatening to destroy spice production forever unless Shaddam abdicates the throne. Feyd-Rautha attempts to stop Paul by challenging him to a ritualistic knife fight, during which he attempts to cheat and kill Paul with a poison spur in his belt. Paul gains the upper hand and kills him. The Emperor reluctantly cedes the throne to Paul and promises his daughter Princess Irulan's hand in marriage. As Paul takes control of the Empire, he realizes that while he has achieved his goal, he is no longer able to stop the Fremen jihad, as their belief in him is too powerful to restrain.\n",
    "\"\"\"\n",
    "\n",
    "documents = [Document(page_content=text)]\n",
    "graph_documents = llm_transformer.convert_to_graph_documents(documents)\n",
    "\n",
    "print(f\"Nodes:{graph_documents[0].nodes}\")\n",
    "print(f\"Relationships:{graph_documents[0].relationships}\")"
   ]
  },
  {
   "cell_type": "code",
   "execution_count": 13,
   "metadata": {},
   "outputs": [
    {
     "name": "stdout",
     "output_type": "stream",
     "text": [
      "Duke Leto Atreides of House Atreides, ruler of the ocean planet Caladan, is assigned by the Padishah Emperor Shaddam IV to serve as fief ruler of the planet Arrakis. Although Arrakis is a harsh and inhospitable desert planet, it is of enormous importance because it is the only planetary source of melange, or the \"spice\", a unique and incredibly valuable substance that extends human youth, vitality and lifespan. It is also through the consumption of spice that Spacing Guild Navigators are able to effect safe interstellar travel. Shaddam, jealous of Duke Leto Atreides's rising popularity in the Landsraad, sees House Atreides as a potential future rival and threat, so conspires with House Harkonnen, the former stewards of Arrakis and the longstanding enemies of House Atreides, to destroy Leto and his family after their arrival. Leto is aware his assignment is a trap of some kind, but is compelled to obey the Emperor's orders anyway.\n",
      "Leto's concubine Lady Jessica is an acolyte of the Bene Gesserit, an exclusively female group that pursues mysterious political aims and wields seemingly superhuman physical and mental abilities, such as the ability to control their bodies down to the cellular level, and also decide the sex of their children. Though Jessica was instructed by the Bene Gesserit to bear a daughter as part of their breeding program, out of love for Leto she bore a son, Paul. From a young age, Paul has been trained in warfare by Leto's aides, the elite soldiers Duncan Idaho and Gurney Halleck. Thufir Hawat, the Duke's Mentat (human computers, able to store vast amounts of data and perform advanced calculations on demand), has instructed Paul in the ways of political intrigue. Jessica has also trained her son in Bene Gesserit disciplines.\n",
      "Paul's prophetic dreams interest Jessica's superior, the Reverend Mother Gaius Helen Mohiam, who subjects Paul to the deadly gom jabbar test. Holding a poisonous needle to his neck ready to strike should he be unable to resist the impulse to withdraw his hand from the nerve induction box, she tests Paul's self-control to overcome the extreme psychological pain he is being subjected to through the box.\n",
      "Leto, Jessica, and Paul travel with their household to occupy Arrakeen, the capital on Arrakis formerly held by House Harkonnen. Leto learns of the dangers involved in harvesting the spice, which is protected by giant sandworms, and seeks to negotiate with the planet's native Fremen people, seeing them as a valuable ally rather than foes. Soon after the Atreides's arrival, Harkonnen forces attack, joined by the Emperor's ferocious Sardaukar troops in disguise. Leto is betrayed by his personal physician, the Suk doctor Wellington Yueh, who delivers a drugged Leto to the Baron Vladimir Harkonnen and his twisted Mentat, Piter De Vries. Yueh, however, arranges for Jessica and Paul to escape into the desert, where they are presumed dead by the Harkonnens. Yueh replaces one of Leto's teeth with a poison gas capsule, hoping Leto can kill the Baron during their encounter. The Baron narrowly avoids the gas due to his shield, which kills Leto, De Vries, and the others in the room. The Baron forces Hawat to take over De Vries's position by dosing him with a long-lasting, fatal poison and threatening to withhold the regular antidote doses unless he obeys. While he follows the Baron's orders, Hawat works secretly to undermine the Harkonnens.\n",
      "Having fled into the desert, Paul is exposed to high concentrations of spice and has visions through which he realizes he has significant powers (as a result of the Bene Gesserit breeding scheme). He foresees potential futures in which he lives among the planet's native Fremen before leading them on a Holy Jihad across the known universe.\n",
      "It is revealed Jessica is the daughter of Baron Harkonnen, a secret kept from her by the Bene Gesserit. After being captured by Fremen, Paul and Jessica are accepted into the Fremen community of Sietch Tabr, and teach the Fremen the Bene Gesserit fighting technique known as the \"weirding way\". Paul proves his manhood by killing a Fremen named Jamis in a ritualistic crysknife fight and chooses the Fremen name Muad'Dib, while Jessica opts to undergo a ritual to become a Reverend Mother by drinking the poisonous Water of Life. Pregnant with Leto's daughter, she inadvertently causes the unborn child, Alia, to become infused with the same powers in the womb. Paul takes a Fremen lover, Chani, and has a son with her, Leto II.\n",
      "Two years pass and Paul's powerful prescience manifests, which confirms for the Fremen that he is their prophesied messiah, a legend planted by the Bene Gesserit's Missionaria Protectiva. Paul embraces his father's belief that the Fremen could be a powerful fighting force to take back Arrakis, but also sees that if he does not control them, their jihad could consume the entire universe. Word of the new Fremen leader reaches both Baron Harkonnen and the Emperor as spice production falls due to their increasingly destructive raids. The Baron encourages his brutish nephew Glossu Rabban to rule with an iron fist, hoping the contrast with his shrewder nephew Feyd-Rautha will make the latter popular among the people of Arrakis when he eventually replaces Rabban. The Emperor, suspecting the Baron of trying to create troops more powerful than the Sardaukar to seize power, sends spies to monitor activity on Arrakis. Hawat uses the opportunity to sow seeds of doubt in the Baron about the Emperor's true plans, putting further strain on their alliance.\n",
      "Gurney, having survived the Harkonnen coup becomes a smuggler, reuniting with Paul and Jessica after a Fremen raid on his harvester. Believing Jessica to be the traitor, Gurney threatens to kill her, but is stopped by Paul. Paul did not foresee Gurney's attack, and concludes he must increase his prescience by drinking the Water of Life, which is traditionally fatal to males. Paul falls into unconsciousness for three weeks after drinking the poison, but when he wakes, he has clairvoyance across time and space: he is the Kwisatz Haderach, the ultimate goal of the Bene Gesserit breeding program.\n",
      "Paul senses the Emperor and Baron are amassing fleets around Arrakis to quell the Fremen rebellion, and prepares the Fremen for a major offensive against the Harkonnen troops. The Emperor arrives with the Baron on Arrakis. The Emperor's troops seize a Fremen outpost, killing many including young Leto II, while Alia is captured and taken to the Emperor. Under cover of an electric storm, which shorts out the Emperor's troops' defensive shields, Paul and the Fremen, riding giant sandworms, assault the capital while Alia assassinates the Baron and escapes. The Fremen quickly defeat both the Harkonnen and Sardaukar troops.\n",
      "Paul faces the Emperor, threatening to destroy spice production forever unless Shaddam abdicates the throne. Feyd-Rautha attempts to stop Paul by challenging him to a ritualistic knife fight, during which he attempts to cheat and kill Paul with a poison spur in his belt. Paul gains the upper hand and kills him. The Emperor reluctantly cedes the throne to Paul and promises his daughter Princess Irulan's hand in marriage. As Paul takes control of the Empire, he realizes that while he has achieved his goal, he is no longer able to stop the Fremen jihad, as their belief in him is too powerful to restrain.\n",
      "\n"
     ]
    }
   ],
   "source": [
    "print(text)"
   ]
  },
  {
   "cell_type": "code",
   "execution_count": 14,
   "metadata": {},
   "outputs": [
    {
     "name": "stdout",
     "output_type": "stream",
     "text": [
      "Nodes:[Node(id='Duke Leto Atreides', type='Person', properties={'title': 'Duke'}), Node(id='House Atreides', type='Organization', properties={}), Node(id='Caladan', type='Location', properties={}), Node(id='Padishah Emperor Shaddam Iv', type='Person', properties={}), Node(id='Arrakis', type='Location', properties={}), Node(id='Spacing Guild Navigators', type='Organization', properties={}), Node(id='House Harkonnen', type='Organization', properties={}), Node(id='Lady Jessica', type='Person', properties={}), Node(id='Bene Gesserit', type='Organization', properties={}), Node(id='Paul Atreides', type='Person', properties={}), Node(id='Duncan Idaho', type='Person', properties={}), Node(id='Gurney Halleck', type='Person', properties={}), Node(id='Thufir Hawat', type='Person', properties={}), Node(id='Reverend Mother Gaius Helen Mohiam', type='Person', properties={}), Node(id='Baron Vladimir Harkonnen', type='Person', properties={}), Node(id='Piter De Vries', type='Person', properties={}), Node(id='Wellington Yueh', type='Person', properties={}), Node(id='Fremen', type='Organization', properties={}), Node(id='Sardaukar', type='Organization', properties={}), Node(id='Jamis', type='Person', properties={}), Node(id=\"Muad'Dib\", type='Person', properties={}), Node(id='Alia Atreides', type='Person', properties={}), Node(id='Chani', type='Person', properties={}), Node(id='Leto Ii', type='Person', properties={}), Node(id='Glossu Rabban', type='Person', properties={}), Node(id='Feyd-Rautha', type='Person', properties={}), Node(id='Princess Irulan', type='Person', properties={})]\n",
      "Relationships:[Relationship(source=Node(id='Lady Jessica', type='Person', properties={}), target=Node(id='Duke Leto Atreides', type='Person', properties={}), type='SPOUSE', properties={}), Relationship(source=Node(id='Lady Jessica', type='Person', properties={}), target=Node(id='Paul Atreides', type='Person', properties={}), type='IS_MOTHER_OF', properties={}), Relationship(source=Node(id='Duke Leto Atreides', type='Person', properties={}), target=Node(id='Paul Atreides', type='Person', properties={}), type='IS_FATHER_OF', properties={}), Relationship(source=Node(id='Lady Jessica', type='Person', properties={}), target=Node(id='Alia Atreides', type='Person', properties={}), type='IS_MOTHER_OF', properties={}), Relationship(source=Node(id='Paul Atreides', type='Person', properties={}), target=Node(id='Alia Atreides', type='Person', properties={}), type='IS_SIBLING_OF', properties={}), Relationship(source=Node(id='Paul Atreides', type='Person', properties={}), target=Node(id='Leto Ii', type='Person', properties={}), type='IS_FATHER_OF', properties={}), Relationship(source=Node(id='Lady Jessica', type='Person', properties={}), target=Node(id='Leto Ii', type='Person', properties={}), type='IS_MOTHER_OF', properties={}), Relationship(source=Node(id='Baron Vladimir Harkonnen', type='Person', properties={}), target=Node(id='Glossu Rabban', type='Person', properties={}), type='RELATIVE', properties={}), Relationship(source=Node(id='Baron Vladimir Harkonnen', type='Person', properties={}), target=Node(id='Feyd-Rautha', type='Person', properties={}), type='RELATIVE', properties={}), Relationship(source=Node(id='Paul Atreides', type='Person', properties={}), target=Node(id='Princess Irulan', type='Person', properties={}), type='SPOUSE', properties={})]\n"
     ]
    }
   ],
   "source": [
    "llm_transformer_props = LLMGraphTransformer(\n",
    "    llm=llm,\n",
    "    allowed_nodes=[\"Person\", \"Location\", \"Organization\"],\n",
    "    allowed_relationships=[\"NATIONALITY\", \"LIVES_IN\", \"SPOUSE\", \"RELATIVE\", \"IS_FATHER_OF\", \"IS_MOTHER_OF\", \"IS_SIBLING_OF\"],\n",
    "    node_properties=[\"born_year\", \"name\", \"title\"],\n",
    ")\n",
    "graph_documents_props = llm_transformer_props.convert_to_graph_documents(documents)\n",
    "\n",
    "print(f\"Nodes:{graph_documents_props[0].nodes}\")\n",
    "print(f\"Relationships:{graph_documents_props[0].relationships}\")"
   ]
  },
  {
   "cell_type": "code",
   "execution_count": 15,
   "metadata": {},
   "outputs": [],
   "source": [
    "graph.add_graph_documents(graph_documents_props, baseEntityLabel=True)"
   ]
  },
  {
   "cell_type": "code",
   "execution_count": null,
   "metadata": {},
   "outputs": [],
   "source": []
  }
 ],
 "metadata": {
  "kernelspec": {
   "display_name": "genai",
   "language": "python",
   "name": "python3"
  },
  "language_info": {
   "codemirror_mode": {
    "name": "ipython",
    "version": 3
   },
   "file_extension": ".py",
   "mimetype": "text/x-python",
   "name": "python",
   "nbconvert_exporter": "python",
   "pygments_lexer": "ipython3",
   "version": "3.12.7"
  }
 },
 "nbformat": 4,
 "nbformat_minor": 2
}
