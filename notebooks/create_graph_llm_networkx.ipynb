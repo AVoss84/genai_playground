{
 "cells": [
  {
   "cell_type": "code",
   "execution_count": 2,
   "metadata": {},
   "outputs": [],
   "source": [
    "# start ollama server\n",
    "# !ollama serve"
   ]
  },
  {
   "cell_type": "code",
   "execution_count": 3,
   "metadata": {},
   "outputs": [
    {
     "name": "stdout",
     "output_type": "stream",
     "text": [
      "Error: could not connect to ollama app, is it running?\n"
     ]
    }
   ],
   "source": [
    "# download to:  ~/.ollama/models\n",
    "#!ollama pull nomic-embed-text\n",
    "# !ollama pull llama3.1:8b\n",
    "!ollama list"
   ]
  },
  {
   "cell_type": "code",
   "execution_count": 4,
   "metadata": {},
   "outputs": [],
   "source": [
    "#!ollama help\n",
    "# !ollama rm llama3:latest\n",
    "#ollama run llama3.1"
   ]
  },
  {
   "cell_type": "code",
   "execution_count": 5,
   "metadata": {},
   "outputs": [],
   "source": [
    "import os\n",
    "from langchain_openai import AzureChatOpenAI #, AzureOpenAIEmbeddings\n",
    "from dotenv import load_dotenv\n",
    "\n",
    "load_dotenv()\n",
    "\n",
    "llm = AzureChatOpenAI(\n",
    "    openai_api_base=os.getenv(\"OPENAI_URL\"),\n",
    "    openai_api_version=\"2024-02-15-preview\",\n",
    "    openai_api_type=\"azure\",\n",
    "    temperature=0.2,\n",
    "    openai_api_key=os.getenv(\"OPENAI_API_KEY\")\n",
    ")"
   ]
  },
  {
   "cell_type": "code",
   "execution_count": 6,
   "metadata": {},
   "outputs": [],
   "source": [
    "# from langchain_ollama import ChatOllama\n",
    "\n",
    "# llm = ChatOllama(\n",
    "#     model=\"llama3.1:8b\",\n",
    "#     temperature=0.3,\n",
    "# )"
   ]
  },
  {
   "cell_type": "code",
   "execution_count": 16,
   "metadata": {},
   "outputs": [],
   "source": [
    "import sys\n",
    "from pathlib import Path\n",
    "\n",
    "sys.path.insert(0, '..') \n",
    "\n",
    "file_path = Path().cwd().parent / \"sox.pdf\"\n",
    "\n",
    "from utils import get_text_from_pdf\n",
    "\n",
    "document = get_text_from_pdf(file_path)\n",
    "#print(document)"
   ]
  },
  {
   "cell_type": "code",
   "execution_count": 9,
   "metadata": {},
   "outputs": [],
   "source": [
    "from pydantic import BaseModel, Field\n",
    "from typing import Optional, List\n",
    "from langchain_core.output_parsers import JsonOutputParser\n",
    "\n",
    "class InsuredPerson(BaseModel):\n",
    "    id: str = Field(description=\"Unique identifier for the insured person\")\n",
    "    insured_name: str = Field(description=\"Name of insured  person (VN); first and last name\", examples=[\"Max Mustermann\"])\n",
    "    # insured_address: str = Field(description=\"Address of the person\", examples=[\"Maxi Str.12, 12345 Berlin\"]) \n",
    "    insured_phone_number: str = Field(description=\"Phone number of insured person (Telefonnummer)\", examples=[\"+49 178 2837 2838\"])\n",
    "    insured_email: str = Field(description=\"Email of the person\", examples=[\"max.mustermann@yahoo.de\"])\n",
    "    insured_policy_number: str = Field(description=\"Policy number (Vertragsnummer)\", examples=[\"AS-9862471757\"])\n",
    "\n",
    "class Claimant(BaseModel):\n",
    "    id: str = Field(description=\"Unique identifier for the claimant\")\n",
    "    name_claimant: str = Field(description=\"Name of the claimant\", examples=[\"Max Mustermann\"])\n",
    "    phone_claimant: str = Field(description=\"Phone number of the claimant\", examples=[\"+49 178 2837 2838\"])\n",
    "    email_claimant: str = Field(description=\"Email of the claimant\", examples=[\"max.mustermann@gmx.de\"])\n",
    "    iban_claimant: str = Field(description=\"IBAN of the claimant\", examples=[\"DE12345678901234567890\"])\n",
    "\n",
    "class Object(BaseModel):\n",
    "    id: str = Field(description=\"Unique identifier for the object\")\n",
    "    object_type: str = Field(description=\"Object type\", examples=[\"Handy\"])\n",
    "    cause_of_damage_obj: str = Field(description=\"Ursache des Schadens\", examples=[\"Sturz\"])\n",
    "    info_obj: str = Field(description=\"Angaben zum beschädigten Gegenstand\", examples=[\"Herstellungsjahr, Marke, Modell\"])\n",
    "    pred_claim_amount_obj: Optional[str] = Field(description=\"Voraussichtliche Schadenshöhe\", examples=[\"1000€, Keine Angabe\"])\n",
    "\n",
    "class Location(BaseModel):\n",
    "    id: str = Field(description=\"Unique identifier for the location\")\n",
    "    claims_description_location: str = Field(description=\"Beschreibung zum Schadenort\", examples=[\"Arbeitsplatz\"])\n",
    "    address_details: str = Field(description=\"Address details of a person, e.g. insured, claimant. Straße / Hausnummer. PLZ / Ort. Land\", examples=[\"Maxi Str.12, 12345 Berlin, Deutschland\"])\n",
    "\n",
    "class Links(BaseModel):\n",
    "    id: str = Field(description=\"Unique identifier for the link\")\n",
    "    link_types: List[str] = Field(default_factory=list, description=\"List of links between nodes\", examples=[\"WORKS_WITH\", \"LIVES_AT\", \"CLAIMS\", \"LOCATED_AT\", \"DAMAGED\", \"OWNS\", \"IS_RELATED_TO\"])\n",
    "    node_from: str = Field(description=\"Unique identifier of the node where the link starts\")\n",
    "    node_to: str = Field(description=\"Unique identifier of the node where the link ends\")\n",
    "\n",
    "class Nodes(BaseModel):\n",
    "    insured: List[InsuredPerson] = Field(default_factory=list, description=\"List of insured person(s)\")\n",
    "    claimant: List[Claimant] = Field(default_factory=list, description=\"List of claimant(s)\")\n",
    "    object: List[Object] = Field(default_factory=list, description=\"List of involved/damaged objects\")\n",
    "    location: List[Location] = Field(default_factory=list, description=\"List of locations\")\n",
    "\n",
    "# Your parser initialization remains largely the same but now expects lists:\n",
    "parser_node = JsonOutputParser(pydantic_object=Nodes)\n",
    "\n",
    "parser_links = JsonOutputParser(pydantic_object=Links)"
   ]
  },
  {
   "cell_type": "code",
   "execution_count": 10,
   "metadata": {},
   "outputs": [
    {
     "name": "stdout",
     "output_type": "stream",
     "text": [
      "{'claimant': [{'email_claimant': 'Keine Angaben',\n",
      "               'iban_claimant': 'Keine Angaben',\n",
      "               'id': '1',\n",
      "               'name_claimant': 'Frau Siglinde Horn',\n",
      "               'phone_claimant': '+49 1512 4413863'}],\n",
      " 'insured': [{'id': '1',\n",
      "              'insured_email': 'aidas.sugintas@gmail.com',\n",
      "              'insured_name': 'Gabriele Sugintiene',\n",
      "              'insured_phone_number': '+4915145958879',\n",
      "              'insured_policy_number': 'AS-9862471757'}],\n",
      " 'location': [{'address_details': 'Mehringerstr. 12b, 84489 Burghausen, '\n",
      "                                  'Deutschland',\n",
      "               'claims_description_location': 'Arbeitplatz',\n",
      "               'id': '1'},\n",
      "              {'address_details': 'Kettelerstrasse 4a, 84547 Emmerting, '\n",
      "                                  'Deutschland',\n",
      "               'claims_description_location': 'Schadenobjekt 1',\n",
      "               'id': '2'}],\n",
      " 'object': [{'cause_of_damage_obj': 'Sonstige Schadenursache',\n",
      "             'id': '1',\n",
      "             'info_obj': 'Hersteller / Produktbezeichnung: Keine Angaben, '\n",
      "                         'Alter des Geräts: Älter als 2 Jahre, Angaben zum '\n",
      "                         'beschädigten Gegenstand: Display',\n",
      "             'object_type': 'Handy / Tablet',\n",
      "             'pred_claim_amount_obj': 'Keine Angaben'}]}\n"
     ]
    }
   ],
   "source": [
    "# from langchain_aws import ChatBedrock\n",
    "from langchain_core.prompts import PromptTemplate\n",
    "from langchain.chains import LLMChain\n",
    "from pprint import PrettyPrinter\n",
    "\n",
    "template = \"\"\"\n",
    "You are an expert in graph generation. Your task is to extract entities and their relationships from a given text.\n",
    "Following is an insurance contract. \n",
    "Please extract the following information for the nodes / entities:\\n{node_instructions}\n",
    "Here is the text to extract from {context}.\\n \n",
    "\"\"\"\n",
    " \n",
    "prompt = PromptTemplate(\n",
    "    template=template,\n",
    "    input_variables=[\"context\"],\n",
    "    partial_variables={\"node_instructions\": parser_node.get_format_instructions()},\n",
    ")\n",
    " \n",
    "chain = prompt | llm | parser_node\n",
    "# chain = LLMChain(llm=model, prompt=prompt, callbacks=[handler2], verbose=False, output_parser=parser)  # alternative way to define chain\n",
    "  \n",
    "response_nodes = chain.invoke({\"context\": document})\n",
    " \n",
    "PrettyPrinter().pprint(response_nodes) "
   ]
  },
  {
   "cell_type": "code",
   "execution_count": 11,
   "metadata": {},
   "outputs": [
    {
     "name": "stdout",
     "output_type": "stream",
     "text": [
      "[{'id': '1',\n",
      "  'link_types': ['LOCATED_AT'],\n",
      "  'node_from': 'Schadenort',\n",
      "  'node_to': 'Arbeitplatz'},\n",
      " {'id': '2',\n",
      "  'link_types': ['LOCATED_AT'],\n",
      "  'node_from': 'Arbeitplatz',\n",
      "  'node_to': 'Mehringerstr. 12b, 84489 Burghausen, Deutschland'},\n",
      " {'id': '3',\n",
      "  'link_types': ['CLAIMS'],\n",
      "  'node_from': 'Gabriele Sugintiene',\n",
      "  'node_to': 'Schadenmeldung'},\n",
      " {'id': '4',\n",
      "  'link_types': ['OWNS'],\n",
      "  'node_from': 'Gabriele Sugintiene',\n",
      "  'node_to': 'Vertragsnummer AS-9862471757'},\n",
      " {'id': '5',\n",
      "  'link_types': ['DAMAGED'],\n",
      "  'node_from': 'Gabriele Sugintiene',\n",
      "  'node_to': 'Handy'},\n",
      " {'id': '6',\n",
      "  'link_types': ['OWNS'],\n",
      "  'node_from': 'Siglinde Horn',\n",
      "  'node_to': 'Handy'},\n",
      " {'id': '7',\n",
      "  'link_types': ['LIVES_AT'],\n",
      "  'node_from': 'Siglinde Horn',\n",
      "  'node_to': 'Kettelerstrasse 4a, 84547 Emmerting, Deutschland'},\n",
      " {'id': '8',\n",
      "  'link_types': ['WORKS_WITH'],\n",
      "  'node_from': 'Gabriele Sugintiene',\n",
      "  'node_to': 'Siglinde Horn'},\n",
      " {'id': '9',\n",
      "  'link_types': ['IS_RELATED_TO'],\n",
      "  'node_from': 'Gabriele Sugintiene',\n",
      "  'node_to': 'Ehe- / Lebenspartner'},\n",
      " {'id': '10',\n",
      "  'link_types': ['CLAIMS'],\n",
      "  'node_from': 'Gabriele Sugintiene',\n",
      "  'node_to': 'Schaden verursacht'},\n",
      " {'id': '11',\n",
      "  'link_types': ['CLAIMS'],\n",
      "  'node_from': 'Gabriele Sugintiene',\n",
      "  'node_to': 'Forderung gerechtfertigt'},\n",
      " {'id': '12',\n",
      "  'link_types': ['CLAIMS'],\n",
      "  'node_from': 'Gabriele Sugintiene',\n",
      "  'node_to': 'Zahlung an den Versicherungsnehmer'},\n",
      " {'id': '13',\n",
      "  'link_types': ['CLAIMS'],\n",
      "  'node_from': 'Gabriele Sugintiene',\n",
      "  'node_to': 'Fotos / Bildmaterial'}]\n"
     ]
    }
   ],
   "source": [
    "template = \"\"\"\n",
    "You are an expert in graph generation. Your task is to extract links/relationships from a given text {context}.\n",
    "Please extract the relationships in the text as:\\n{link_instructions}.\n",
    "\"\"\"\n",
    " \n",
    "prompt = PromptTemplate(\n",
    "    template=template,\n",
    "    input_variables=[\"context\"],\n",
    "    partial_variables={\"link_instructions\": parser_links.get_format_instructions()},\n",
    ")\n",
    " \n",
    "chain = prompt | llm | parser_links\n",
    "# chain = LLMChain(llm=model, prompt=prompt, callbacks=[handler2], verbose=False, output_parser=parser)  # alternative way to define chain\n",
    "  \n",
    "response_edges = chain.invoke({\"context\": document})\n",
    " \n",
    "PrettyPrinter().pprint(response_edges) "
   ]
  },
  {
   "cell_type": "code",
   "execution_count": 12,
   "metadata": {},
   "outputs": [
    {
     "name": "stdout",
     "output_type": "stream",
     "text": [
      "insured: {'id': '1', 'insured_name': 'Gabriele Sugintiene', 'insured_phone_number': '+4915145958879', 'insured_email': 'aidas.sugintas@gmail.com', 'insured_policy_number': 'AS-9862471757'}\n",
      "\n",
      "claimant: {'id': '1', 'name_claimant': 'Frau Siglinde Horn', 'phone_claimant': '+49 1512 4413863', 'email_claimant': 'Keine Angaben', 'iban_claimant': 'Keine Angaben'}\n",
      "\n",
      "object: {'id': '1', 'object_type': 'Handy / Tablet', 'cause_of_damage_obj': 'Sonstige Schadenursache', 'info_obj': 'Hersteller / Produktbezeichnung: Keine Angaben, Alter des Geräts: Älter als 2 Jahre, Angaben zum beschädigten Gegenstand: Display', 'pred_claim_amount_obj': 'Keine Angaben'}\n",
      "\n",
      "location: {'id': '1', 'claims_description_location': 'Arbeitplatz', 'address_details': 'Mehringerstr. 12b, 84489 Burghausen, Deutschland'}\n",
      "\n",
      "location: {'id': '2', 'claims_description_location': 'Schadenobjekt 1', 'address_details': 'Kettelerstrasse 4a, 84547 Emmerting, Deutschland'}\n",
      "\n"
     ]
    }
   ],
   "source": [
    "import networkx as nx\n",
    "\n",
    "G = nx.Graph() \n",
    "\n",
    "for node_type, attributes in response_nodes.items():\n",
    "    for attribute in attributes:\n",
    "        print(f\"{node_type}: {attribute}\")\n",
    "        print()\n",
    "        G.add_node(f\"{node_type}_{attribute[\"id\"]}\", **attribute)"
   ]
  },
  {
   "cell_type": "code",
   "execution_count": 13,
   "metadata": {},
   "outputs": [
    {
     "name": "stdout",
     "output_type": "stream",
     "text": [
      "[{'id': '1',\n",
      "  'link_types': ['LOCATED_AT'],\n",
      "  'node_from': 'Schadenort',\n",
      "  'node_to': 'Arbeitplatz'},\n",
      " {'id': '2',\n",
      "  'link_types': ['LOCATED_AT'],\n",
      "  'node_from': 'Arbeitplatz',\n",
      "  'node_to': 'Mehringerstr. 12b, 84489 Burghausen, Deutschland'},\n",
      " {'id': '3',\n",
      "  'link_types': ['CLAIMS'],\n",
      "  'node_from': 'Gabriele Sugintiene',\n",
      "  'node_to': 'Schadenmeldung'},\n",
      " {'id': '4',\n",
      "  'link_types': ['OWNS'],\n",
      "  'node_from': 'Gabriele Sugintiene',\n",
      "  'node_to': 'Vertragsnummer AS-9862471757'},\n",
      " {'id': '5',\n",
      "  'link_types': ['DAMAGED'],\n",
      "  'node_from': 'Gabriele Sugintiene',\n",
      "  'node_to': 'Handy'},\n",
      " {'id': '6',\n",
      "  'link_types': ['OWNS'],\n",
      "  'node_from': 'Siglinde Horn',\n",
      "  'node_to': 'Handy'},\n",
      " {'id': '7',\n",
      "  'link_types': ['LIVES_AT'],\n",
      "  'node_from': 'Siglinde Horn',\n",
      "  'node_to': 'Kettelerstrasse 4a, 84547 Emmerting, Deutschland'},\n",
      " {'id': '8',\n",
      "  'link_types': ['WORKS_WITH'],\n",
      "  'node_from': 'Gabriele Sugintiene',\n",
      "  'node_to': 'Siglinde Horn'},\n",
      " {'id': '9',\n",
      "  'link_types': ['IS_RELATED_TO'],\n",
      "  'node_from': 'Gabriele Sugintiene',\n",
      "  'node_to': 'Ehe- / Lebenspartner'},\n",
      " {'id': '10',\n",
      "  'link_types': ['CLAIMS'],\n",
      "  'node_from': 'Gabriele Sugintiene',\n",
      "  'node_to': 'Schaden verursacht'},\n",
      " {'id': '11',\n",
      "  'link_types': ['CLAIMS'],\n",
      "  'node_from': 'Gabriele Sugintiene',\n",
      "  'node_to': 'Forderung gerechtfertigt'},\n",
      " {'id': '12',\n",
      "  'link_types': ['CLAIMS'],\n",
      "  'node_from': 'Gabriele Sugintiene',\n",
      "  'node_to': 'Zahlung an den Versicherungsnehmer'},\n",
      " {'id': '13',\n",
      "  'link_types': ['CLAIMS'],\n",
      "  'node_from': 'Gabriele Sugintiene',\n",
      "  'node_to': 'Fotos / Bildmaterial'}]\n",
      "Graph edges:\n",
      "[('Schadenort', 'Arbeitplatz', {'relationship': 'LOCATED_AT'}), ('Arbeitplatz', 'Mehringerstr. 12b, 84489 Burghausen, Deutschland', {'relationship': 'LOCATED_AT'}), ('Gabriele Sugintiene', 'Schadenmeldung', {'relationship': 'CLAIMS'}), ('Gabriele Sugintiene', 'Vertragsnummer AS-9862471757', {'relationship': 'OWNS'}), ('Gabriele Sugintiene', 'Handy', {'relationship': 'DAMAGED'}), ('Gabriele Sugintiene', 'Siglinde Horn', {'relationship': 'WORKS_WITH'}), ('Gabriele Sugintiene', 'Ehe- / Lebenspartner', {'relationship': 'IS_RELATED_TO'}), ('Gabriele Sugintiene', 'Schaden verursacht', {'relationship': 'CLAIMS'}), ('Gabriele Sugintiene', 'Forderung gerechtfertigt', {'relationship': 'CLAIMS'}), ('Gabriele Sugintiene', 'Zahlung an den Versicherungsnehmer', {'relationship': 'CLAIMS'}), ('Gabriele Sugintiene', 'Fotos / Bildmaterial', {'relationship': 'CLAIMS'}), ('Handy', 'Siglinde Horn', {'relationship': 'OWNS'}), ('Siglinde Horn', 'Kettelerstrasse 4a, 84547 Emmerting, Deutschland', {'relationship': 'LIVES_AT'})]\n"
     ]
    }
   ],
   "source": [
    "import networkx as nx\n",
    "\n",
    "# Assuming G is already initialized as a graph\n",
    "G = nx.Graph()\n",
    "\n",
    "# Simplified loop to handle links creation and graph population\n",
    "links = []  # Holds all link dictionaries\n",
    "for edge in response_edges:\n",
    "    # Create a link dictionary from edge data\n",
    "    link = {\n",
    "        \"id\": edge[\"id\"],\n",
    "        \"link_types\": edge[\"link_types\"],  # No need to wrap this in another list if it's already correct\n",
    "        \"node_from\": edge[\"node_from\"],\n",
    "        \"node_to\": edge[\"node_to\"]\n",
    "    }\n",
    "    links.append(link)\n",
    "\n",
    "    # Add edges to the graph for each link type in this edge\n",
    "    for link_type in edge['link_types']:\n",
    "        G.add_edge(edge['node_from'], edge['node_to'], relationship=link_type)\n",
    "\n",
    "# Display structured links data\n",
    "PrettyPrinter().pprint(links)\n",
    "\n",
    "# Optionally print graph edges to verify\n",
    "print(\"Graph edges:\")\n",
    "print(list(G.edges(data=True)))\n"
   ]
  },
  {
   "cell_type": "code",
   "execution_count": 14,
   "metadata": {},
   "outputs": [
    {
     "name": "stdout",
     "output_type": "stream",
     "text": [
      "14\n"
     ]
    },
    {
     "data": {
      "image/png": "[encoded data removed]",
      "text/plain": [
       "<Figure size 640x480 with 1 Axes>"
      ]
     },
     "metadata": {},
     "output_type": "display_data"
    }
   ],
   "source": [
    "print(G.number_of_nodes())\n",
    "\n",
    "# Draw the graph\n",
    "pos = nx.spring_layout(G)  # positions for all nodes\n",
    "nx.draw(G, pos, with_labels=True, node_color='skyblue', node_size=1000, edge_color='gray', font_size=10, font_weight='bold')\n"
   ]
  },
  {
   "cell_type": "code",
   "execution_count": null,
   "metadata": {},
   "outputs": [],
   "source": []
  },
  {
   "cell_type": "code",
   "execution_count": null,
   "metadata": {},
   "outputs": [],
   "source": []
  },
  {
   "cell_type": "markdown",
   "metadata": {},
   "source": [
    "# Version 2:"
   ]
  },
  {
   "cell_type": "code",
   "execution_count": 24,
   "metadata": {},
   "outputs": [],
   "source": [
    "from pydantic import BaseModel, Field\n",
    "from typing import Optional, List\n",
    "from langchain_core.output_parsers import JsonOutputParser\n",
    "\n",
    "class InsuredPerson(BaseModel):\n",
    "    id: str = Field(description=\"Unique identifier for the insured person\", alias=\"insured_id\")\n",
    "    insured_name: str = Field(description=\"Name of insured  person (VN); first and last name\", examples=[\"Max Mustermann\"], alias=\"insured_name\")\n",
    "    insured_phone_number: str = Field(description=\"Phone number of insured person (Telefonnummer)\", examples=[\"+49 178 2837 2838\"], alias=\"insured_phone_number\")\n",
    "    insured_email: str = Field(description=\"Email of the person\", examples=[\"max.mustermann@yahoo.de\"], alias=\"insured_email\")\n",
    "    insured_policy_number: str = Field(description=\"Policy number (Vertragsnummer)\", examples=[\"AS-9862471757\"], alias=\"insured_policy_number\")\n",
    "\n",
    "class Claimant(BaseModel):\n",
    "    id: str = Field(description=\"Unique identifier for the claimant\", alias=\"claimant_id\")\n",
    "    name_claimant: str = Field(description=\"Name of the claimant\", examples=[\"Max Mustermann\"], alias=\"claimant_name\")\n",
    "    phone_claimant: str = Field(description=\"Phone number of the claimant\", examples=[\"+49 178 2837 2838\"], alias=\"claimant_phone_number\")\n",
    "    email_claimant: str = Field(description=\"Email of the claimant\", examples=[\"max.mustermann@gmx.de\"], alias=\"claimant_email\")\n",
    "    iban_claimant: str = Field(description=\"IBAN of the claimant\", examples=[\"DE12345678901234567890\"], alias=\"claimant_iban\")\n",
    "\n",
    "class Object(BaseModel):\n",
    "    id: str = Field(description=\"Unique identifier for the object\", alias=\"object_id\")\n",
    "    object_type: str = Field(description=\"Object type\", examples=[\"Handy\"], alias=\"object_type\")\n",
    "    cause_of_damage_obj: str = Field(description=\"Ursache des Schadens\", examples=[\"Sturz\"], alias=\"cause_of_damage_obj\")\n",
    "    info_obj: str = Field(description=\"Angaben zum beschädigten Gegenstand\", examples=[\"Herstellungsjahr, Marke, Modell\"], alias=\"info_obj\")\n",
    "    pred_claim_amount_obj: Optional[str] = Field(description=\"Voraussichtliche Schadenshöhe\", examples=[\"1000€, Keine Angabe\"], alias=\"pred_claim_amount_obj\")\n",
    "\n",
    "class Location(BaseModel):\n",
    "    id: str = Field(description=\"Unique identifier for the location\", alias=\"location_id\")\n",
    "    claims_description_location: str = Field(description=\"Beschreibung zum Schadenort\", examples=[\"Arbeitsplatz\"], alias=\"claims_description_location\")\n",
    "    address_details: str = Field(description=\"Address details of a person, e.g. insured, claimant. Straße / Hausnummer. PLZ / Ort. Land\", examples=[\"Maxi Str.12, 12345 Berlin, Deutschland\"], alias=\"address_details\")\n",
    "\n",
    "class Links(BaseModel):\n",
    "    id: str = Field(description=\"Unique identifier for the link\", alias=\"link_id\")\n",
    "    link_types: List[str] = Field(default_factory=list, description=\"List of links between nodes\", examples=[\"WORKS_WITH\", \"LIVES_AT\", \"CLAIMS\", \"LOCATED_AT\", \"DAMAGED\", \"OWNS\", \"IS_RELATED_TO\"])\n",
    "    node_from: str = Field(description=\"Node alias where the link starts\", alias=\"node_from\", examples=[\"insured_id\", \"claimant_id\", \"object_id\", \"location_id\"])\n",
    "    node_to: str = Field(description=\"Node alias where the link ends\", alias=\"node_to\", examples=[\"claimant_id\", \"object_id\", \"location_id\"])\n",
    "\n",
    "class Nodes(BaseModel):\n",
    "    insured: List[InsuredPerson] = Field(default_factory=list, description=\"List of insured person(s)\", alias=\"insured\")\n",
    "    claimant: List[Claimant] = Field(default_factory=list, description=\"List of claimant(s)\", alias=\"claimant\")\n",
    "    object: List[Object] = Field(default_factory=list, description=\"List of involved/damaged objects\", alias=\"object\")\n",
    "    location: List[Location] = Field(default_factory=list, description=\"List of locations\", alias=\"location\")\n",
    "\n",
    "class OutputStructure(BaseModel):\n",
    "    nodes: Nodes\n",
    "    edges: Links\n",
    " \n",
    "parser = JsonOutputParser(pydantic_object=OutputStructure)\n"
   ]
  },
  {
   "cell_type": "code",
   "execution_count": 37,
   "metadata": {},
   "outputs": [
    {
     "name": "stdout",
     "output_type": "stream",
     "text": [
      "{'edges': [{'link_id': '1',\n",
      "            'link_types': ['CLAIMS'],\n",
      "            'node_from': 'insured_id',\n",
      "            'node_to': 'claimant_id'},\n",
      "           {'link_id': '2',\n",
      "            'link_types': ['DAMAGED'],\n",
      "            'node_from': 'insured_id',\n",
      "            'node_to': 'object_id'},\n",
      "           {'link_id': '3',\n",
      "            'link_types': ['LOCATED_AT'],\n",
      "            'node_from': 'insured_id',\n",
      "            'node_to': 'location_id'},\n",
      "           {'link_id': '4',\n",
      "            'link_types': ['LOCATED_AT'],\n",
      "            'node_from': 'claimant_id',\n",
      "            'node_to': 'location_id'},\n",
      "           {'link_id': '5',\n",
      "            'link_types': ['IS_RELATED_TO'],\n",
      "            'node_from': 'insured_id',\n",
      "            'node_to': 'claimant_id'}],\n",
      " 'nodes': {'claimant': [{'claimant_email': 'Keine Angaben',\n",
      "                         'claimant_iban': 'Keine Angaben',\n",
      "                         'claimant_id': '1',\n",
      "                         'claimant_name': 'Frau Siglinde Horn',\n",
      "                         'claimant_phone_number': '+49 1512 4413863'}],\n",
      "           'insured': [{'insured_email': 'aidas.sugintas@gmail.com',\n",
      "                        'insured_id': '1',\n",
      "                        'insured_name': 'Gabriele Sugintiene',\n",
      "                        'insured_phone_number': '+4915145958879',\n",
      "                        'insured_policy_number': 'AS-9862471757'}],\n",
      "           'location': [{'address_details': 'Mehringerstr. 12b, 84489 '\n",
      "                                            'Burghausen, Deutschland',\n",
      "                         'claims_description_location': 'Arbeitplatz',\n",
      "                         'location_id': '1'},\n",
      "                        {'address_details': 'Kettelerstrasse 4a, 84547 '\n",
      "                                            'Emmerting, Deutschland',\n",
      "                         'claims_description_location': 'Wohnort des '\n",
      "                                                        'Geschädigten',\n",
      "                         'location_id': '2'}],\n",
      "           'object': [{'cause_of_damage_obj': 'Sonstige Schadenursache',\n",
      "                       'info_obj': 'Hersteller / Produktbezeichnung: Keine '\n",
      "                                   'Angaben, Alter des Geräts: Älter als 2 '\n",
      "                                   'Jahre, Angaben zum beschädigten '\n",
      "                                   'Gegenstand: Display',\n",
      "                       'object_id': '1',\n",
      "                       'object_type': 'Handy',\n",
      "                       'pred_claim_amount_obj': 'Keine Angaben'}]}}\n"
     ]
    }
   ],
   "source": [
    "# from langchain_aws import ChatBedrock\n",
    "from langchain_core.prompts import PromptTemplate\n",
    "from langchain.chains import LLMChain\n",
    "from pprint import PrettyPrinter\n",
    "\n",
    "template = \"\"\"\n",
    "You are an expert in graph generation. Your task is to extract entities and their relationships from a given text. \n",
    "Please extract the information as:\\n{instructions}\n",
    "Following is a claims document to extract information from {context}.\n",
    "\"\"\"\n",
    " \n",
    "prompt = PromptTemplate(\n",
    "    template=template,\n",
    "    input_variables=[\"context\"],\n",
    "    partial_variables={\"instructions\": parser.get_format_instructions()},\n",
    ")\n",
    " \n",
    "chain = prompt | llm | parser\n",
    "  \n",
    "response = chain.invoke({\"context\": document})\n",
    " \n",
    "PrettyPrinter().pprint(response) "
   ]
  },
  {
   "cell_type": "code",
   "execution_count": 40,
   "metadata": {},
   "outputs": [
    {
     "data": {
      "text/plain": [
       "dict_keys(['insured', 'claimant', 'location', 'object'])"
      ]
     },
     "execution_count": 40,
     "metadata": {},
     "output_type": "execute_result"
    }
   ],
   "source": [
    "response['nodes'].keys()\n",
    "# Visualize in networkx \n",
    "#G = nx.Graph()\n",
    "\n",
    "\n"
   ]
  },
  {
   "cell_type": "code",
   "execution_count": 36,
   "metadata": {},
   "outputs": [
    {
     "name": "stdout",
     "output_type": "stream",
     "text": [
      "nodes: insured\n",
      "\n"
     ]
    },
    {
     "ename": "TypeError",
     "evalue": "string indices must be integers, not 'str'",
     "output_type": "error",
     "traceback": [
      "\u001b[0;31m---------------------------------------------------------------------------\u001b[0m",
      "\u001b[0;31mTypeError\u001b[0m                                 Traceback (most recent call last)",
      "Cell \u001b[0;32mIn[36], line 8\u001b[0m\n\u001b[1;32m      6\u001b[0m \u001b[38;5;28mprint\u001b[39m(\u001b[38;5;124mf\u001b[39m\u001b[38;5;124m\"\u001b[39m\u001b[38;5;132;01m{\u001b[39;00mnode_type\u001b[38;5;132;01m}\u001b[39;00m\u001b[38;5;124m: \u001b[39m\u001b[38;5;132;01m{\u001b[39;00mattribute\u001b[38;5;132;01m}\u001b[39;00m\u001b[38;5;124m\"\u001b[39m)\n\u001b[1;32m      7\u001b[0m \u001b[38;5;28mprint\u001b[39m()\n\u001b[0;32m----> 8\u001b[0m G\u001b[38;5;241m.\u001b[39madd_node(\u001b[38;5;124mf\u001b[39m\u001b[38;5;124m\"\u001b[39m\u001b[38;5;132;01m{\u001b[39;00mnode_type\u001b[38;5;132;01m}\u001b[39;00m\u001b[38;5;124m_\u001b[39m\u001b[38;5;132;01m{\u001b[39;00m\u001b[43mattribute\u001b[49m\u001b[43m[\u001b[49m\u001b[38;5;124;43m\"\u001b[39;49m\u001b[38;5;124;43mid\u001b[39;49m\u001b[38;5;124;43m\"\u001b[39;49m\u001b[43m]\u001b[49m\u001b[38;5;132;01m}\u001b[39;00m\u001b[38;5;124m\"\u001b[39m, \u001b[38;5;241m*\u001b[39m\u001b[38;5;241m*\u001b[39mattribute)\n",
      "\u001b[0;31mTypeError\u001b[0m: string indices must be integers, not 'str'"
     ]
    }
   ],
   "source": [
    "# Visualize in networkx\n",
    "G = nx.Graph()\n",
    "\n",
    "for node_type, attributes in response_nodes.items():\n",
    "    for attribute in attributes:\n",
    "        print(f\"{node_type}: {attribute}\")\n",
    "        print()\n",
    "        G.add_node(f\"{node_type}_{attribute[\"id\"]}\", **attribute)\n",
    "        \n",
    "        \n"
   ]
  },
  {
   "cell_type": "code",
   "execution_count": 34,
   "metadata": {},
   "outputs": [],
   "source": [
    "from langchain_community.graphs import Neo4jGraph\n",
    "\n",
    "url = \"bolt://localhost:7687\"  # Default local Neo4j URL\n",
    "password = \"neo4j_password\"  # Set this to your database password\n",
    "\n",
    "graph = Neo4jGraph(\n",
    "    url=url,\n",
    "    username=\"neo4j\",\n",
    "    password=password,\n",
    "    database=\"sox\",\n",
    ")\n",
    "\n",
    "graph.refresh_schema()"
   ]
  },
  {
   "cell_type": "code",
   "execution_count": 33,
   "metadata": {},
   "outputs": [
    {
     "data": {
      "text/plain": [
       "[]"
      ]
     },
     "execution_count": 33,
     "metadata": {},
     "output_type": "execute_result"
    }
   ],
   "source": [
    "# Empty the database\n",
    "graph.query(\"MATCH (n) DETACH DELETE n\")"
   ]
  },
  {
   "cell_type": "code",
   "execution_count": 35,
   "metadata": {},
   "outputs": [
    {
     "ename": "TypeError",
     "evalue": "string indices must be integers, not 'str'",
     "output_type": "error",
     "traceback": [
      "\u001b[0;31m---------------------------------------------------------------------------\u001b[0m",
      "\u001b[0;31mTypeError\u001b[0m                                 Traceback (most recent call last)",
      "Cell \u001b[0;32mIn[35], line 4\u001b[0m\n\u001b[1;32m      2\u001b[0m \u001b[38;5;28;01mfor\u001b[39;00m node_type, attributes \u001b[38;5;129;01min\u001b[39;00m response_nodes\u001b[38;5;241m.\u001b[39mitems():\n\u001b[1;32m      3\u001b[0m     \u001b[38;5;28;01mfor\u001b[39;00m attribute \u001b[38;5;129;01min\u001b[39;00m attributes:\n\u001b[0;32m----> 4\u001b[0m         node_id \u001b[38;5;241m=\u001b[39m \u001b[38;5;124mf\u001b[39m\u001b[38;5;124m\"\u001b[39m\u001b[38;5;132;01m{\u001b[39;00mnode_type\u001b[38;5;132;01m}\u001b[39;00m\u001b[38;5;124m_\u001b[39m\u001b[38;5;132;01m{\u001b[39;00m\u001b[43mattribute\u001b[49m\u001b[43m[\u001b[49m\u001b[38;5;124;43m'\u001b[39;49m\u001b[38;5;124;43mid\u001b[39;49m\u001b[38;5;124;43m'\u001b[39;49m\u001b[43m]\u001b[49m\u001b[38;5;132;01m}\u001b[39;00m\u001b[38;5;124m\"\u001b[39m\n\u001b[1;32m      5\u001b[0m         graph\u001b[38;5;241m.\u001b[39mquery(\n\u001b[1;32m      6\u001b[0m             \u001b[38;5;124mf\u001b[39m\u001b[38;5;124m\"\u001b[39m\u001b[38;5;124mCREATE (n:\u001b[39m\u001b[38;5;132;01m{\u001b[39;00mnode_type\u001b[38;5;132;01m}\u001b[39;00m\u001b[38;5;124m \u001b[39m\u001b[38;5;130;01m{{\u001b[39;00m\u001b[38;5;124mid: $id\u001b[39m\u001b[38;5;130;01m}}\u001b[39;00m\u001b[38;5;124m) SET n += $props\u001b[39m\u001b[38;5;124m\"\u001b[39m,\n\u001b[1;32m      7\u001b[0m             {\u001b[38;5;124m\"\u001b[39m\u001b[38;5;124mid\u001b[39m\u001b[38;5;124m\"\u001b[39m: node_id, \u001b[38;5;124m\"\u001b[39m\u001b[38;5;124mprops\u001b[39m\u001b[38;5;124m\"\u001b[39m: attribute}\n\u001b[1;32m      8\u001b[0m         )\n",
      "\u001b[0;31mTypeError\u001b[0m: string indices must be integers, not 'str'"
     ]
    }
   ],
   "source": [
    "# Add nodes\n",
    "for node_type, attributes in response_nodes.items():\n",
    "    for attribute in attributes:\n",
    "        node_id = f\"{node_type}_{attribute['id']}\"\n",
    "        graph.query(\n",
    "            f\"CREATE (n:{node_type} {{id: $id}}) SET n += $props\",\n",
    "            {\"id\": node_id, \"props\": attribute}\n",
    "        )"
   ]
  },
  {
   "cell_type": "code",
   "execution_count": null,
   "metadata": {},
   "outputs": [],
   "source": []
  },
  {
   "cell_type": "code",
   "execution_count": null,
   "metadata": {},
   "outputs": [],
   "source": []
  },
  {
   "cell_type": "code",
   "execution_count": null,
   "metadata": {},
   "outputs": [],
   "source": [
    "example_output = [\n",
    "   dict(\n",
    "    title=\"Person\",\n",
    "    type=\"object\",\n",
    "    description=\"Node\",\n",
    "    properties=[\n",
    "        dict(name=\"name\", type=\"string\", description=\"The name of the person\", examples=[\"Tom Hanks\"]),\n",
    "        # dict(name=\"date_of_birth\", column_name=\"person_dob\", type=\"date\", description=\"The date of birth for the person\", examples=[\"1987-06-05\"]),\n",
    "        # dict(name=\"id\", column_name=\"person_name, date_of_birth\", type=\"string\", description=\"The ID is a combination of name and date of birth to ensure uniqueness\", examples=[\"tom-hanks-1987-06-05\"]),\n",
    "    ],\n",
    "  ),\n",
    "#    dict(\n",
    "#     title=\"Director\",\n",
    "#     type=\"object\",\n",
    "#     description=\"Node\",\n",
    "#     properties=[\n",
    "#         dict(name=\"name\", column_name=\"director_names\", type=\"string\", description=\"The name of the directors. Split values in text by a comma\", examples=[\"Francis Ford Coppola\"]),\n",
    "#     ],\n",
    "#   ),\n",
    "#    dict(\n",
    "#     title=\"Movie\",\n",
    "#     type=\"object\",\n",
    "#     description=\"Node\",\n",
    "#     properties=[\n",
    "#         dict(name=\"title\", column_name=\"title\", type=\"string\", description=\"The title of the movie\", examples=[\"Toy Story\"]),\n",
    "#         dict(name=\"released\", column_name=\"released\", type=\"integer\", description=\"The year the movie was released\", examples=[\"1990\"]),\n",
    "#     ],)\n",
    "   dict(\n",
    "    title=\"IS_FATHER_OF\",\n",
    "    type=\"object\",\n",
    "    description=\"Relationship\",\n",
    "    properties=[\n",
    "        dict(name=\"_from\", type=\"string\", description=\"The Father\", examples=[\"Person\"]),\n",
    "        dict(name=\"_to\", type=\"string\", description=\"The child\", examples=[\"Person\"]),\n",
    "    ]\n",
    "  )\n",
    "#    dict(\n",
    "#     title=\"DIRECTED\",\n",
    "#     type=\"object\",\n",
    "#     description=\"Relationship\",\n",
    "#     properties=[\n",
    "#         dict(name=\"_from\", type=\"string\", column_name=\"director_names\", description=\"Director names are comma separated\", examples=[\"Director\"]),\n",
    "#         dict(name=\"_to\", type=\"string\", column_name=\"title\", description=\"The label of the node this relationship ends at\", examples=[\"Movie\"]),\n",
    "#     ],\n",
    "#   ),\n",
    "]"
   ]
  },
  {
   "cell_type": "code",
   "execution_count": null,
   "metadata": {},
   "outputs": [],
   "source": []
  },
  {
   "cell_type": "code",
   "execution_count": null,
   "metadata": {},
   "outputs": [],
   "source": []
  },
  {
   "cell_type": "code",
   "execution_count": null,
   "metadata": {},
   "outputs": [],
   "source": []
  },
  {
   "cell_type": "code",
   "execution_count": 114,
   "metadata": {},
   "outputs": [],
   "source": [
    "from pydantic import BaseModel, Field\n",
    "from langchain_core.output_parsers import JsonOutputParser\n",
    "\n",
    "class OutputStructure(BaseModel):\n",
    "    input_text: str = Field(description=\"The input text\")\n",
    "    translated_text: str = Field(description=\"The translated text\")\n",
    " \n",
    "parser = JsonOutputParser(pydantic_object=OutputStructure)"
   ]
  },
  {
   "cell_type": "code",
   "execution_count": 115,
   "metadata": {},
   "outputs": [],
   "source": [
    "from langchain.prompts import ChatPromptTemplate, HumanMessagePromptTemplate, SystemMessagePromptTemplate\n",
    "\n",
    "system_template = \"\"\"You are a helpful assistant that translates {input_language} to {output_language}.\n",
    "{format_instructions}\"\"\"\n",
    "\n",
    "human_template = \"{text}\"\n",
    "\n",
    "system_message_prompt = SystemMessagePromptTemplate.from_template(system_template)\n",
    "human_message_prompt = HumanMessagePromptTemplate.from_template(human_template)\n",
    "\n",
    "chat_prompt = ChatPromptTemplate.from_messages([\n",
    "    system_message_prompt,\n",
    "    human_message_prompt\n",
    "])"
   ]
  },
  {
   "cell_type": "code",
   "execution_count": null,
   "metadata": {},
   "outputs": [],
   "source": [
    "from pprint import PrettyPrinter\n",
    "\n",
    "prompt = chat_prompt.partial(\n",
    "    format_instructions=parser.get_format_instructions(),\n",
    "    input_language=\"English\",\n",
    "    output_language=\"German\"\n",
    ")\n",
    "\n",
    "chain = prompt | llm | parser\n",
    "\n",
    "result = chain.invoke({\"text\": \"I love programming.\"})\n",
    "\n",
    "PrettyPrinter().pprint(result) "
   ]
  },
  {
   "cell_type": "code",
   "execution_count": null,
   "metadata": {},
   "outputs": [],
   "source": []
  },
  {
   "cell_type": "code",
   "execution_count": null,
   "metadata": {},
   "outputs": [],
   "source": []
  },
  {
   "cell_type": "code",
   "execution_count": null,
   "metadata": {},
   "outputs": [],
   "source": []
  },
  {
   "cell_type": "code",
   "execution_count": null,
   "metadata": {},
   "outputs": [],
   "source": []
  },
  {
   "cell_type": "markdown",
   "metadata": {},
   "source": [
    "## Graph from text example:"
   ]
  },
  {
   "cell_type": "code",
   "execution_count": 153,
   "metadata": {},
   "outputs": [],
   "source": [
    "from pydantic import BaseModel, Field\n",
    "\n",
    "class JSONSchemaSpecification(BaseModel):\n",
    "    notes: str = Field(description=\"Any notes or comments about the schema\")\n",
    "    jsonschema: str = Field(description=\"A JSON array of JSON schema specifications that describe the entities in the data model\")\n",
    "\n",
    "parser = JsonOutputParser(pydantic_object=JSONSchemaSpecification)"
   ]
  },
  {
   "cell_type": "code",
   "execution_count": 2,
   "metadata": {},
   "outputs": [],
   "source": [
    "from pathlib import Path\n",
    "from langchain_community.document_loaders import TextLoader\n",
    "\n",
    "txt_path = Path().cwd().parent / \"dune.txt\"\n",
    "\n",
    "loader = TextLoader(str(txt_path))\n",
    "documents = loader.load()"
   ]
  },
  {
   "cell_type": "code",
   "execution_count": null,
   "metadata": {},
   "outputs": [],
   "source": [
    "print(documents[0].page_content)"
   ]
  },
  {
   "cell_type": "code",
   "execution_count": 156,
   "metadata": {},
   "outputs": [],
   "source": [
    "example_output = [\n",
    "   dict(\n",
    "    title=\"Person\",\n",
    "    type=\"object\",\n",
    "    description=\"Node\",\n",
    "    properties=[\n",
    "        dict(name=\"name\", type=\"string\", description=\"The name of the person\", examples=[\"Tom Hanks\"]),\n",
    "        # dict(name=\"date_of_birth\", column_name=\"person_dob\", type=\"date\", description=\"The date of birth for the person\", examples=[\"1987-06-05\"]),\n",
    "        # dict(name=\"id\", column_name=\"person_name, date_of_birth\", type=\"string\", description=\"The ID is a combination of name and date of birth to ensure uniqueness\", examples=[\"tom-hanks-1987-06-05\"]),\n",
    "    ],\n",
    "  ),\n",
    "#    dict(\n",
    "#     title=\"Director\",\n",
    "#     type=\"object\",\n",
    "#     description=\"Node\",\n",
    "#     properties=[\n",
    "#         dict(name=\"name\", column_name=\"director_names\", type=\"string\", description=\"The name of the directors. Split values in text by a comma\", examples=[\"Francis Ford Coppola\"]),\n",
    "#     ],\n",
    "#   ),\n",
    "#    dict(\n",
    "#     title=\"Movie\",\n",
    "#     type=\"object\",\n",
    "#     description=\"Node\",\n",
    "#     properties=[\n",
    "#         dict(name=\"title\", column_name=\"title\", type=\"string\", description=\"The title of the movie\", examples=[\"Toy Story\"]),\n",
    "#         dict(name=\"released\", column_name=\"released\", type=\"integer\", description=\"The year the movie was released\", examples=[\"1990\"]),\n",
    "#     ],)\n",
    "   dict(\n",
    "    title=\"IS_FATHER_OF\",\n",
    "    type=\"object\",\n",
    "    description=\"Relationship\",\n",
    "    properties=[\n",
    "        dict(name=\"_from\", type=\"string\", description=\"The Father\", examples=[\"Person\"]),\n",
    "        dict(name=\"_to\", type=\"string\", description=\"The child\", examples=[\"Person\"]),\n",
    "    ]\n",
    "  )\n",
    "#    dict(\n",
    "#     title=\"DIRECTED\",\n",
    "#     type=\"object\",\n",
    "#     description=\"Relationship\",\n",
    "#     properties=[\n",
    "#         dict(name=\"_from\", type=\"string\", column_name=\"director_names\", description=\"Director names are comma separated\", examples=[\"Director\"]),\n",
    "#         dict(name=\"_to\", type=\"string\", column_name=\"title\", description=\"The label of the node this relationship ends at\", examples=[\"Movie\"]),\n",
    "#     ],\n",
    "#   ),\n",
    "]"
   ]
  },
  {
   "cell_type": "code",
   "execution_count": null,
   "metadata": {},
   "outputs": [],
   "source": [
    "from langchain.prompts import PromptTemplate\n",
    "from json import dumps\n",
    "\n",
    "model_prompt = PromptTemplate.from_template(\"\"\"\n",
    "You are an expert Graph Database administrator.\n",
    "Your task is to design a knowledge graph based on information provided in a raw text source.\n",
    "\n",
    "You must identify in the text if a word indicates being a node/vertice or a link/relationship between two nodes. Consider:\n",
    "* Does the text represent an entity, i.e. a node, like for example a Person, Place, or object?  If so, this should be a node.\n",
    "* Does the text represent a relationship between two entities?  If so, this should be a relationship between two nodes.\n",
    "                                            \n",
    "This is the text from which you need to identify: {text}\n",
    "\n",
    "Here is an example of an expected output:\n",
    "{example_output}\n",
    "\"\"\", partial_variables=dict(example_output=dumps(example_output)))\n",
    "\n",
    "chain = model_prompt | llm | parser"
   ]
  },
  {
   "cell_type": "code",
   "execution_count": 160,
   "metadata": {},
   "outputs": [],
   "source": [
    "result = chain.invoke({\"text\": documents[0].page_content})\n",
    "\n",
    "# # Process all chunks in parallel using batch\n",
    "# results = chain.batch([{\"text\": chunk.page_content} for chunk in documents], {\"max_concurrency\": 5})\n",
    "\n",
    "# # Print the results\n",
    "# for result in results:\n",
    "#     PrettyPrinter().pprint(result) "
   ]
  },
  {
   "cell_type": "code",
   "execution_count": 3,
   "metadata": {},
   "outputs": [],
   "source": [
    "#PrettyPrinter().pprint(result)"
   ]
  },
  {
   "cell_type": "code",
   "execution_count": 10,
   "metadata": {},
   "outputs": [],
   "source": [
    "from langchain_community.graphs import Neo4jGraph\n",
    "\n",
    "url = \"bolt://localhost:7687\"  # Default local Neo4j URL\n",
    "password = \"neo4j_password\"  # Set this to your database password\n",
    "\n",
    "graph = Neo4jGraph(\n",
    "    url=url,\n",
    "    username=\"neo4j\",\n",
    "    password=password,\n",
    "    database=\"dune-example\",\n",
    ")"
   ]
  },
  {
   "cell_type": "code",
   "execution_count": 11,
   "metadata": {},
   "outputs": [],
   "source": [
    "from langchain_experimental.graph_transformers import LLMGraphTransformer\n",
    "\n",
    "llm_transformer = LLMGraphTransformer(llm=llm)"
   ]
  },
  {
   "cell_type": "code",
   "execution_count": null,
   "metadata": {},
   "outputs": [],
   "source": [
    "from langchain_core.documents import Document\n",
    "\n",
    "text = \"\"\"\n",
    "Marie Curie, born in 1867, was a Polish and naturalised-French physicist and chemist who conducted pioneering research on radioactivity.\n",
    "She was the first woman to win a Nobel Prize, the first person to win a Nobel Prize twice, and the only person to win a Nobel Prize in two scientific fields.\n",
    "Her husband, Pierre Curie, was a co-winner of her first Nobel Prize, making them the first-ever married couple to win the Nobel Prize and launching the Curie family legacy of five Nobel Prizes.\n",
    "She was, in 1906, the first woman to become a professor at the University of Paris.\n",
    "\"\"\"\n",
    "\n",
    "text = \"\"\"Duke Leto Atreides of House Atreides, ruler of the ocean planet Caladan, is assigned by the Padishah Emperor Shaddam IV to serve as fief ruler of the planet Arrakis. Although Arrakis is a harsh and inhospitable desert planet, it is of enormous importance because it is the only planetary source of melange, or the \"spice\", a unique and incredibly valuable substance that extends human youth, vitality and lifespan. It is also through the consumption of spice that Spacing Guild Navigators are able to effect safe interstellar travel. Shaddam, jealous of Duke Leto Atreides's rising popularity in the Landsraad, sees House Atreides as a potential future rival and threat, so conspires with House Harkonnen, the former stewards of Arrakis and the longstanding enemies of House Atreides, to destroy Leto and his family after their arrival. Leto is aware his assignment is a trap of some kind, but is compelled to obey the Emperor's orders anyway.\n",
    "Leto's concubine Lady Jessica is an acolyte of the Bene Gesserit, an exclusively female group that pursues mysterious political aims and wields seemingly superhuman physical and mental abilities, such as the ability to control their bodies down to the cellular level, and also decide the sex of their children. Though Jessica was instructed by the Bene Gesserit to bear a daughter as part of their breeding program, out of love for Leto she bore a son, Paul. From a young age, Paul has been trained in warfare by Leto's aides, the elite soldiers Duncan Idaho and Gurney Halleck. Thufir Hawat, the Duke's Mentat (human computers, able to store vast amounts of data and perform advanced calculations on demand), has instructed Paul in the ways of political intrigue. Jessica has also trained her son in Bene Gesserit disciplines.\n",
    "Paul's prophetic dreams interest Jessica's superior, the Reverend Mother Gaius Helen Mohiam, who subjects Paul to the deadly gom jabbar test. Holding a poisonous needle to his neck ready to strike should he be unable to resist the impulse to withdraw his hand from the nerve induction box, she tests Paul's self-control to overcome the extreme psychological pain he is being subjected to through the box.\n",
    "Leto, Jessica, and Paul travel with their household to occupy Arrakeen, the capital on Arrakis formerly held by House Harkonnen. Leto learns of the dangers involved in harvesting the spice, which is protected by giant sandworms, and seeks to negotiate with the planet's native Fremen people, seeing them as a valuable ally rather than foes. Soon after the Atreides's arrival, Harkonnen forces attack, joined by the Emperor's ferocious Sardaukar troops in disguise. Leto is betrayed by his personal physician, the Suk doctor Wellington Yueh, who delivers a drugged Leto to the Baron Vladimir Harkonnen and his twisted Mentat, Piter De Vries. Yueh, however, arranges for Jessica and Paul to escape into the desert, where they are presumed dead by the Harkonnens. Yueh replaces one of Leto's teeth with a poison gas capsule, hoping Leto can kill the Baron during their encounter. The Baron narrowly avoids the gas due to his shield, which kills Leto, De Vries, and the others in the room. The Baron forces Hawat to take over De Vries's position by dosing him with a long-lasting, fatal poison and threatening to withhold the regular antidote doses unless he obeys. While he follows the Baron's orders, Hawat works secretly to undermine the Harkonnens.\n",
    "Having fled into the desert, Paul is exposed to high concentrations of spice and has visions through which he realizes he has significant powers (as a result of the Bene Gesserit breeding scheme). He foresees potential futures in which he lives among the planet's native Fremen before leading them on a Holy Jihad across the known universe.\n",
    "It is revealed Jessica is the daughter of Baron Harkonnen, a secret kept from her by the Bene Gesserit. After being captured by Fremen, Paul and Jessica are accepted into the Fremen community of Sietch Tabr, and teach the Fremen the Bene Gesserit fighting technique known as the \"weirding way\". Paul proves his manhood by killing a Fremen named Jamis in a ritualistic crysknife fight and chooses the Fremen name Muad'Dib, while Jessica opts to undergo a ritual to become a Reverend Mother by drinking the poisonous Water of Life. Pregnant with Leto's daughter, she inadvertently causes the unborn child, Alia, to become infused with the same powers in the womb. Paul takes a Fremen lover, Chani, and has a son with her, Leto II.\n",
    "Two years pass and Paul's powerful prescience manifests, which confirms for the Fremen that he is their prophesied messiah, a legend planted by the Bene Gesserit's Missionaria Protectiva. Paul embraces his father's belief that the Fremen could be a powerful fighting force to take back Arrakis, but also sees that if he does not control them, their jihad could consume the entire universe. Word of the new Fremen leader reaches both Baron Harkonnen and the Emperor as spice production falls due to their increasingly destructive raids. The Baron encourages his brutish nephew Glossu Rabban to rule with an iron fist, hoping the contrast with his shrewder nephew Feyd-Rautha will make the latter popular among the people of Arrakis when he eventually replaces Rabban. The Emperor, suspecting the Baron of trying to create troops more powerful than the Sardaukar to seize power, sends spies to monitor activity on Arrakis. Hawat uses the opportunity to sow seeds of doubt in the Baron about the Emperor's true plans, putting further strain on their alliance.\n",
    "Gurney, having survived the Harkonnen coup becomes a smuggler, reuniting with Paul and Jessica after a Fremen raid on his harvester. Believing Jessica to be the traitor, Gurney threatens to kill her, but is stopped by Paul. Paul did not foresee Gurney's attack, and concludes he must increase his prescience by drinking the Water of Life, which is traditionally fatal to males. Paul falls into unconsciousness for three weeks after drinking the poison, but when he wakes, he has clairvoyance across time and space: he is the Kwisatz Haderach, the ultimate goal of the Bene Gesserit breeding program.\n",
    "Paul senses the Emperor and Baron are amassing fleets around Arrakis to quell the Fremen rebellion, and prepares the Fremen for a major offensive against the Harkonnen troops. The Emperor arrives with the Baron on Arrakis. The Emperor's troops seize a Fremen outpost, killing many including young Leto II, while Alia is captured and taken to the Emperor. Under cover of an electric storm, which shorts out the Emperor's troops' defensive shields, Paul and the Fremen, riding giant sandworms, assault the capital while Alia assassinates the Baron and escapes. The Fremen quickly defeat both the Harkonnen and Sardaukar troops.\n",
    "Paul faces the Emperor, threatening to destroy spice production forever unless Shaddam abdicates the throne. Feyd-Rautha attempts to stop Paul by challenging him to a ritualistic knife fight, during which he attempts to cheat and kill Paul with a poison spur in his belt. Paul gains the upper hand and kills him. The Emperor reluctantly cedes the throne to Paul and promises his daughter Princess Irulan's hand in marriage. As Paul takes control of the Empire, he realizes that while he has achieved his goal, he is no longer able to stop the Fremen jihad, as their belief in him is too powerful to restrain.\n",
    "\"\"\"\n",
    "\n",
    "documents = [Document(page_content=text)]\n",
    "graph_documents = llm_transformer.convert_to_graph_documents(documents)\n",
    "\n",
    "print(f\"Nodes:{graph_documents[0].nodes}\")\n",
    "print(f\"Relationships:{graph_documents[0].relationships}\")"
   ]
  },
  {
   "cell_type": "code",
   "execution_count": null,
   "metadata": {},
   "outputs": [],
   "source": [
    "print(text)"
   ]
  },
  {
   "cell_type": "code",
   "execution_count": null,
   "metadata": {},
   "outputs": [],
   "source": [
    "llm_transformer_props = LLMGraphTransformer(\n",
    "    llm=llm,\n",
    "    allowed_nodes=[\"Person\", \"Location\", \"Organization\"],\n",
    "    allowed_relationships=[\"NATIONALITY\", \"LIVES_IN\", \"SPOUSE\", \"RELATIVE\", \"IS_FATHER_OF\", \"IS_MOTHER_OF\", \"IS_SIBLING_OF\"],\n",
    "    node_properties=[\"born_year\", \"name\", \"title\"],\n",
    ")\n",
    "graph_documents_props = llm_transformer_props.convert_to_graph_documents(documents)\n",
    "\n",
    "print(f\"Nodes:{graph_documents_props[0].nodes}\")\n",
    "print(f\"Relationships:{graph_documents_props[0].relationships}\")"
   ]
  },
  {
   "cell_type": "code",
   "execution_count": 15,
   "metadata": {},
   "outputs": [],
   "source": [
    "graph.add_graph_documents(graph_documents_props, baseEntityLabel=True)"
   ]
  },
  {
   "cell_type": "markdown",
   "metadata": {},
   "source": [
    "## SOX"
   ]
  },
  {
   "cell_type": "code",
   "execution_count": 2,
   "metadata": {},
   "outputs": [],
   "source": [
    "import sys\n",
    "\n",
    "sys.path.insert(0, '..') "
   ]
  },
  {
   "cell_type": "code",
   "execution_count": 3,
   "metadata": {},
   "outputs": [],
   "source": [
    "from pathlib import Path\n",
    "\n",
    "file_path = Path().cwd().parent / \"sox.pdf\""
   ]
  },
  {
   "cell_type": "code",
   "execution_count": 4,
   "metadata": {},
   "outputs": [
    {
     "name": "stdout",
     "output_type": "stream",
     "text": [
      "Zusammenfassung Online Schadenmeldung\n",
      "Allgemeine Schadendaten\n",
      "Schadentag 06.04.2023\n",
      "Steht der Schadentag mit Sicherheit fest? Ja\n",
      "Schadenort\n",
      "Beschreibung zum Schadenort Arbeitplatz\n",
      "Straße / Hausnummer Mehringerstr. 12b\n",
      "PLZ / ORT 84489 Burghausen\n",
      "Land Deutschland\n",
      "Allgemeine Daten zum Melder\n",
      "VN Gabriele Sugintiene\n",
      "Telefonnummer +4915145958879 (Privat)\n",
      "E-Mail aidas.sugintas@gmail.com (Privat)\n",
      "Vertragsnummer AS-9862471757\n",
      "Allgemeine Informationen zur Schadenschilderung\n",
      "Schadenschilderung Gabriele Sugintiene hat in der Arbeit die\n",
      "Oberfläche gereinigt und versehentlich ein Handy\n",
      "heruntergeschoben (von Tisch).\n",
      "Informationen zum Schadenobjekt 1\n",
      "Schadenart Gegenstand - Elektronik-Gerät - Handy / Tablet\n",
      "Schadenursache Sonstige Schadenursache\n",
      "Angaben zum beschädigten Gegenstand Hersteller / Produktbezeichnung: Keine Angaben\n",
      "Alter des Geräts: Älter als 2 Jahre\n",
      "Angaben zum beschädigten Gegenstand Display\n",
      "Voraussichtliche Schadenhöhe Keine AngabenDaten des Geschädigten (Schadenobjekt 1)\n",
      "Name Frau Siglinde Horn\n",
      "Straße / Hausnummer Kettelerstrasse 4a\n",
      "PLZ / ORT 84547 Emmerting\n",
      "Land Deutschland\n",
      "Telefonnummer +49 1512 4413863\n",
      "E-Mail Keine Angaben\n",
      "IBAN Keine Angaben\n",
      "Besteht eine häusliche Gemeinschaft zwischen VN Nein\n",
      "und GES?\n",
      "In welchem Verhältnis stehen VN und GES Kollegen\n",
      "zueinander?\n",
      "Weitere beschädigte Sachen / verletzte Personen\n",
      "Gibt es weitere beschädigte Sachen / Verletzte Nein\n",
      "Personen?\n",
      "Weitere Angaben zum Schaden\n",
      "Wie wurde der Schaden verursacht? Durch meinen Ehe- / Lebenspartner\n",
      "Findet der VN die Forderung gerechtfertigt? Ja\n",
      "An wen soll eine Auszahlung erfolgen? Zahlung an den Versicherungsnehmer, IBAN:\n",
      "DE45711510200031332406, BIC: BYLADEM1MDF\n",
      "Anmerkungen für den Schadeninnendienst\n",
      "Weitere Anmerkungen des Melders Keine Angaben\n",
      "Sonstiges\n",
      "Hochgeladene Dokumente Fotos / Bildmaterial: IMG_20230406_134558.jpg,\n",
      "Fotos / Bildmaterial: IMG_20230406_134602.jpg\n",
      "Absendedatum Schadenmeldung 11.04.2023, 21:03\n"
     ]
    }
   ],
   "source": [
    "from utils import get_text_from_pdf\n",
    "\n",
    "text = get_text_from_pdf(file_path)\n",
    "print(text)"
   ]
  },
  {
   "cell_type": "code",
   "execution_count": 24,
   "metadata": {},
   "outputs": [],
   "source": [
    "from langchain_community.graphs import Neo4jGraph\n",
    "\n",
    "url = \"bolt://localhost:7687\"  # Default local Neo4j URL\n",
    "password = \"neo4j_password\"  # Set this to your database password\n",
    "\n",
    "graph = Neo4jGraph(\n",
    "    url=url,\n",
    "    username=\"neo4j\",\n",
    "    password=password,\n",
    "    database=\"sox\",\n",
    ")\n",
    "\n",
    "graph.refresh_schema()\n",
    "\n",
    "# print(graph.schema)"
   ]
  },
  {
   "cell_type": "code",
   "execution_count": 1,
   "metadata": {},
   "outputs": [
    {
     "ename": "ModuleNotFoundError",
     "evalue": "No module named 'langchain_experimental'",
     "output_type": "error",
     "traceback": [
      "\u001b[0;31m---------------------------------------------------------------------------\u001b[0m",
      "\u001b[0;31mModuleNotFoundError\u001b[0m                       Traceback (most recent call last)",
      "Cell \u001b[0;32mIn[1], line 1\u001b[0m\n\u001b[0;32m----> 1\u001b[0m \u001b[38;5;28;01mfrom\u001b[39;00m \u001b[38;5;21;01mlangchain_experimental\u001b[39;00m\u001b[38;5;21;01m.\u001b[39;00m\u001b[38;5;21;01mgraph_transformers\u001b[39;00m\u001b[38;5;21;01m.\u001b[39;00m\u001b[38;5;21;01mgliner\u001b[39;00m \u001b[38;5;28;01mimport\u001b[39;00m GlinerGraphTransformer\n",
      "\u001b[0;31mModuleNotFoundError\u001b[0m: No module named 'langchain_experimental'"
     ]
    }
   ],
   "source": [
    "from langchain_experimental.graph_transformers.gliner import GlinerGraphTransformer"
   ]
  },
  {
   "cell_type": "code",
   "execution_count": null,
   "metadata": {},
   "outputs": [],
   "source": [
    "from langchain_experimental.graph_transformers import LLMGraphTransformer\n",
    "from langchain.prompts import ChatPromptTemplate\n",
    "from langchain_ollama import ChatOllama\n",
    "from langchain_core.documents import Document\n",
    "\n",
    "documents = [Document(page_content=text)]\n",
    "\n",
    "llm = ChatOllama(\n",
    "    model=\"llama3.1:8b\",\n",
    "    temperature=0.1,\n",
    ")\n",
    "\n",
    "chat_prompt = ChatPromptTemplate.from_template(\n",
    "    \"\"\"\n",
    "    You are an expert in the insurance industry. \n",
    "    You need to extract information from an online claim notification form which comes in a key/value format and convert it into a knowledge graph. \n",
    "    Consider the following: Does the text represent an entity, i.e. a node, like for example a Person, Place, or claim object? \n",
    "    If so, this should be a node in the graph. \n",
    "    Does the text represent a relationship between two entities? \n",
    "    If so, this should be a relationship / link between two nodes in the graph.\n",
    "    \"\"\"\n",
    ")\n",
    "\n",
    "llm_transformer = LLMGraphTransformer(\n",
    "        llm=llm,\n",
    "        allowed_nodes=[\"Person\", \"Location\", \"Organization\", \"Object\"],\n",
    "        allowed_relationships=[\"LIVES_IN\", \"IS_RELATED_TO\", \"CLAIMS\", \"KNOWS\", \"OWNS\", \"WORKS_AT\"],\n",
    "        node_properties=[\"date of birth\", \"name\", \"policy number\", \"claim number\", \"claim reason\", \"address\", \"phone number\", \"email\", \"title\", \"IBAN\"],\n",
    "        # relationship_properties=[\"amount\", \"status\", \"description\", \"claim type\"],\n",
    "        #prompt=chat_prompt\n",
    ")\n",
    "\n",
    "graph_documents_props = llm_transformer.convert_to_graph_documents(documents)\n",
    "\n",
    "print(f\"Nodes:{graph_documents_props[0].nodes}\")\n",
    "print(f\"Relationships:{graph_documents_props[0].relationships}\")"
   ]
  },
  {
   "cell_type": "code",
   "execution_count": 33,
   "metadata": {},
   "outputs": [],
   "source": [
    "graph.add_graph_documents(graph_documents_props, baseEntityLabel=True, include_source=True)"
   ]
  },
  {
   "cell_type": "code",
   "execution_count": null,
   "metadata": {},
   "outputs": [],
   "source": [
    "graph.refresh_schema()\n",
    "\n",
    "print(graph.schema)"
   ]
  },
  {
   "cell_type": "code",
   "execution_count": null,
   "metadata": {},
   "outputs": [],
   "source": [
    "from langchain.chains import GraphCypherQAChain\n",
    "\n",
    "chain = GraphCypherQAChain.from_llm(graph=graph, llm=llm, verbose=True, allow_dangerous_requests=True)\n",
    "\n",
    "response = chain.invoke({\"query\": \"What is the claim number?\"})\n",
    "response"
   ]
  },
  {
   "cell_type": "code",
   "execution_count": null,
   "metadata": {},
   "outputs": [],
   "source": []
  }
 ],
 "metadata": {
  "kernelspec": {
   "display_name": "genai",
   "language": "python",
   "name": "python3"
  },
  "language_info": {
   "codemirror_mode": {
    "name": "ipython",
    "version": 3
   },
   "file_extension": ".py",
   "mimetype": "text/x-python",
   "name": "python",
   "nbconvert_exporter": "python",
   "pygments_lexer": "ipython3",
   "version": "3.12.7"
  }
 },
 "nbformat": 4,
 "nbformat_minor": 2
}
